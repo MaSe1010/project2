{
 "cells": [
  {
   "cell_type": "markdown",
   "id": "c226534c",
   "metadata": {},
   "source": [
    "# Is there difficulty variation between degrees at LSE?\n"
   ]
  },
  {
   "cell_type": "markdown",
   "id": "fe151e60",
   "metadata": {},
   "source": [
    "#### Table of Contents\n",
    "\n",
    "\n",
    "1.\tIntroduction\n",
    "\n",
    "* 1.1\tMotivation\n",
    "* 1.2\tObjectives and Research Questions\n",
    "* 1.3\tOriginality\n",
    "* 1.4\tBrief Overview of Project Process\n",
    "\n",
    "2.\tData Acquisition and Preparation\n",
    "* 2.1\t(Programmes Data Scraping NP). Collection and matching of degree titles with corresponding characteristics\n",
    "* 2.2\t(Module Data Scraping NP). Individual course and department grade distribution summary\n",
    "* 2.3\t(Modules Extra Info MS). Quality of life characteristics \n",
    "\n",
    "3.\tDegree Data Preparation and Analysis\n",
    "* 3.1.\t(eda, Preparation until Out[35] and analysis from In[36] onwards). Degree Data Preparation and Visualisation\n",
    "* 3.2.\tDegree-wide Analysis\n",
    "* 3.3.\tReasoning behind specific module selection\n",
    "\n",
    "4.\tModule Data Preparation\n",
    "* 4.1.\tWhy did we choose these degrees\n",
    "* 4.2.\tThe general method employed\n",
    "* 4.3.\tDiscovering the Designs\n",
    "   * 4.31) Finance\n",
    "   * 4.32) Economics\n",
    "   * 4.33) International Relations\n",
    "   * 4.34) Politics and Economics\n",
    "   * 4.35) Physchological and Behavioural Sciences\n",
    "\n",
    "5. Module-wide Analysis\n",
    "\n",
    "  \n",
    "6. Summary and Conclusion\n",
    "* 6.1.\tSummary of findings\n",
    "* 6.2.\tConclusions based on findings\n",
    "* 6.3.\tPotential analysis limitations\n",
    "* 6.4.\tReferences\n"
   ]
  },
  {
   "cell_type": "markdown",
   "id": "1ced9ff0",
   "metadata": {},
   "source": [
    "### 1. Introduction"
   ]
  },
  {
   "cell_type": "markdown",
   "id": "a7e8e3ed",
   "metadata": {},
   "source": [
    "#### Motivation"
   ]
  },
  {
   "cell_type": "markdown",
   "id": "771b02fd",
   "metadata": {},
   "source": [
    "As undergraduate students who have recently undergone the UCAS application process, we aim to verify whether studying a specific degree offers a higher chance of achieving higher grades and, subsequently, a higher graduate salary compared to studying another degree. Finally, we are examining the discrepancy of grade distribution within each degree, varying for different combinations of optional modules."
   ]
  },
  {
   "cell_type": "markdown",
   "id": "7eec852e",
   "metadata": {},
   "source": [
    "#### Overview of Project Process"
   ]
  },
  {
   "cell_type": "markdown",
   "id": "e5b6ffcb",
   "metadata": {},
   "source": [
    "\n",
    "This introductory-level study will include creating a data frame, which allows for possible module combinations that a student can take within a degree. This will be restricted to the recommended modules, under which we will then work out grade distributions by module. Module selection will be based on specific criteria of interest that are thoroughly explained through the analysis. \n",
    "\n",
    "Following the module selection, we will conduct a hypothesis test, by accounting for the standard error within each module, to see if it is statistically possible to artificially \n",
    "increase your chances of receiving higher degree marks, and if this leads to accessing the increased rewards of higher graduation grades.\n",
    "\n",
    "Finally, we will examine on a quantitative and/or qualitative note different statistics that could play a part in each module and degree grade attainment. \n"
   ]
  },
  {
   "cell_type": "markdown",
   "id": "de4f3ccd",
   "metadata": {},
   "source": [
    "#### Originality"
   ]
  },
  {
   "cell_type": "markdown",
   "id": "d8ef4bb2",
   "metadata": {},
   "source": [
    "Looking at LSE’s freedom of information page as well as any other publicly available data, there is no similar database or study that has been done, looking at the possible commutations accounting for standard errors to produce a statistical test on this data. This is the primary aspect which we consider to be original."
   ]
  },
  {
   "cell_type": "markdown",
   "id": "f0aee97d",
   "metadata": {},
   "source": [
    "#### Research Questions"
   ]
  },
  {
   "cell_type": "markdown",
   "id": "c4fb8afc",
   "metadata": {},
   "source": [
    "Is it possible to ‘game the system’ in terms of degree choice and module choice to unlock greater graduation outcomes?\n",
    "\n",
    "Does the grade attainment difference between the “hard” and “easy” degree designs depend on optionality, application acceptance rate, and/or graduation salary?\n"
   ]
  },
  {
   "cell_type": "markdown",
   "id": "51da8f9a",
   "metadata": {},
   "source": [
    "### 2. Data Acquisition"
   ]
  },
  {
   "cell_type": "markdown",
   "id": "044750f3",
   "metadata": {},
   "source": [
    "Link to other notebook (main summarised tables shown here)"
   ]
  },
  {
   "cell_type": "markdown",
   "id": "a29f97a3",
   "metadata": {},
   "source": [
    "### 3. Degree Data Analysis\n"
   ]
  },
  {
   "cell_type": "code",
   "execution_count": 1,
   "id": "436d59c0",
   "metadata": {},
   "outputs": [],
   "source": [
    "import pandas as pd\n",
    "import numpy as np\n",
    "import matplotlib.pyplot as plt\n",
    "import seaborn as sns\n",
    "import itertools\n",
    "import os"
   ]
  },
  {
   "cell_type": "markdown",
   "id": "f7f62aae-06d1-4694-bda7-7c6e4ead02b7",
   "metadata": {},
   "source": [
    "We load in the CSV files with the data for programmes/degrees and individual modules and inspect the programme datafraframe."
   ]
  },
  {
   "cell_type": "code",
   "execution_count": 2,
   "id": "1a129917-9603-4611-a657-ccb2d97a17b6",
   "metadata": {},
   "outputs": [],
   "source": [
    "programms_df = pd.read_csv('data//degrees/programme_data_NDC.csv')\n",
    "modules_df  = pd.read_csv('data//modules/modul_key_facts_updated.csv')"
   ]
  },
  {
   "cell_type": "code",
   "execution_count": 3,
   "id": "ce944399-d415-4240-96e7-3aa99690c2a5",
   "metadata": {},
   "outputs": [
    {
     "data": {
      "text/html": [
       "<div>\n",
       "<style scoped>\n",
       "    .dataframe tbody tr th:only-of-type {\n",
       "        vertical-align: middle;\n",
       "    }\n",
       "\n",
       "    .dataframe tbody tr th {\n",
       "        vertical-align: top;\n",
       "    }\n",
       "\n",
       "    .dataframe thead th {\n",
       "        text-align: right;\n",
       "    }\n",
       "</style>\n",
       "<table border=\"1\" class=\"dataframe\">\n",
       "  <thead>\n",
       "    <tr style=\"text-align: right;\">\n",
       "      <th></th>\n",
       "      <th>degree</th>\n",
       "      <th>a_lvl_req</th>\n",
       "      <th>a_lvl_extra</th>\n",
       "      <th>modules_y1</th>\n",
       "      <th>modules_y2</th>\n",
       "      <th>modules_y3</th>\n",
       "      <th>nr_applications</th>\n",
       "      <th>intake</th>\n",
       "      <th>ratio</th>\n",
       "      <th>home_fee</th>\n",
       "      <th>median_salary</th>\n",
       "    </tr>\n",
       "  </thead>\n",
       "  <tbody>\n",
       "    <tr>\n",
       "      <th>0</th>\n",
       "      <td>BA Anthropology and Law</td>\n",
       "      <td>AAB</td>\n",
       "      <td>NaN</td>\n",
       "      <td>['LL141', 'AN100', 'AN101', 'LL142', 'LL108', ...</td>\n",
       "      <td>['AN253', 'AN379', 'LL106', 'LL143', 'LL200']</td>\n",
       "      <td>['LL276']</td>\n",
       "      <td>250.0</td>\n",
       "      <td>20</td>\n",
       "      <td>13:1</td>\n",
       "      <td>£9,535</td>\n",
       "      <td>£34,500</td>\n",
       "    </tr>\n",
       "  </tbody>\n",
       "</table>\n",
       "</div>"
      ],
      "text/plain": [
       "                    degree a_lvl_req a_lvl_extra  \\\n",
       "0  BA Anthropology and Law       AAB         NaN   \n",
       "\n",
       "                                          modules_y1  \\\n",
       "0  ['LL141', 'AN100', 'AN101', 'LL142', 'LL108', ...   \n",
       "\n",
       "                                      modules_y2 modules_y3  nr_applications  \\\n",
       "0  ['AN253', 'AN379', 'LL106', 'LL143', 'LL200']  ['LL276']            250.0   \n",
       "\n",
       "  intake ratio home_fee median_salary  \n",
       "0     20  13:1   £9,535       £34,500  "
      ]
     },
     "execution_count": 3,
     "metadata": {},
     "output_type": "execute_result"
    }
   ],
   "source": [
    "programms_df.head(1)"
   ]
  },
  {
   "cell_type": "markdown",
   "id": "c959a217-5e19-4275-9f40-6162d52a820b",
   "metadata": {},
   "source": [
    "We inspect what values of the dataframe are missing replace them with 'None' in the case of a_level_extra values and drop the rows with no median salary recorded (we only drop according to median salary and not according to intake or nr_applications because we want to keep as much data as possible and null values are automaticaly not shown in the graphs whereas keeping null median salary values would affect out salary tables ). We identified 17 rows containing missing values, and hence have created a clean dataset using the following code\n"
   ]
  },
  {
   "cell_type": "code",
   "execution_count": 4,
   "id": "43a47faa-5031-43ba-9d9c-cf114673889d",
   "metadata": {},
   "outputs": [
    {
     "name": "stdout",
     "output_type": "stream",
     "text": [
      "Missing values in 'a_lvl_extra' after replacement: 0\n"
     ]
    }
   ],
   "source": [
    "programms_df_clean = programms_df\n",
    "programms_df_clean['a_lvl_extra'] = programms_df_clean['a_lvl_extra'].fillna('None')\n",
    "print(f\"Missing values in 'a_lvl_extra' after replacement: {programms_df_clean['a_lvl_extra'].isnull().sum()}\")"
   ]
  },
  {
   "cell_type": "code",
   "execution_count": 5,
   "id": "ff4a3952-d108-46b9-a73a-aab7e3f2705d",
   "metadata": {},
   "outputs": [],
   "source": [
    "programms_df_clean.dropna(subset=['median_salary'], inplace=True)"
   ]
  },
  {
   "cell_type": "markdown",
   "id": "90e6dd9b-3efa-434e-992d-f2d73ceaa08c",
   "metadata": {},
   "source": [
    "We create a new column with the acceptance rate in decimal form rather than in ratio form."
   ]
  },
  {
   "cell_type": "code",
   "execution_count": 6,
   "id": "fa81a86f-a1e5-4ee9-b284-11d6de2e9b05",
   "metadata": {},
   "outputs": [
    {
     "data": {
      "text/html": [
       "<div>\n",
       "<style scoped>\n",
       "    .dataframe tbody tr th:only-of-type {\n",
       "        vertical-align: middle;\n",
       "    }\n",
       "\n",
       "    .dataframe tbody tr th {\n",
       "        vertical-align: top;\n",
       "    }\n",
       "\n",
       "    .dataframe thead th {\n",
       "        text-align: right;\n",
       "    }\n",
       "</style>\n",
       "<table border=\"1\" class=\"dataframe\">\n",
       "  <thead>\n",
       "    <tr style=\"text-align: right;\">\n",
       "      <th></th>\n",
       "      <th>degree</th>\n",
       "      <th>a_lvl_req</th>\n",
       "      <th>a_lvl_extra</th>\n",
       "      <th>modules_y1</th>\n",
       "      <th>modules_y2</th>\n",
       "      <th>modules_y3</th>\n",
       "      <th>nr_applications</th>\n",
       "      <th>intake</th>\n",
       "      <th>ratio</th>\n",
       "      <th>home_fee</th>\n",
       "      <th>median_salary</th>\n",
       "      <th>acceptance_perc</th>\n",
       "    </tr>\n",
       "  </thead>\n",
       "  <tbody>\n",
       "    <tr>\n",
       "      <th>0</th>\n",
       "      <td>BA Anthropology and Law</td>\n",
       "      <td>AAB</td>\n",
       "      <td>None</td>\n",
       "      <td>['LL141', 'AN100', 'AN101', 'LL142', 'LL108', ...</td>\n",
       "      <td>['AN253', 'AN379', 'LL106', 'LL143', 'LL200']</td>\n",
       "      <td>['LL276']</td>\n",
       "      <td>250.0</td>\n",
       "      <td>20.0</td>\n",
       "      <td>13:1</td>\n",
       "      <td>£9,535</td>\n",
       "      <td>£34,500</td>\n",
       "      <td>0.08000</td>\n",
       "    </tr>\n",
       "    <tr>\n",
       "      <th>1</th>\n",
       "      <td>BA Geography</td>\n",
       "      <td>AAA</td>\n",
       "      <td>None</td>\n",
       "      <td>['GY100', 'GY140', 'GY144', 'LSE100']</td>\n",
       "      <td>['GY245', 'GY246', 'GY212']</td>\n",
       "      <td>['GY350']</td>\n",
       "      <td>377.0</td>\n",
       "      <td>38.0</td>\n",
       "      <td>10:1</td>\n",
       "      <td>£9,535</td>\n",
       "      <td>£35,000</td>\n",
       "      <td>0.10080</td>\n",
       "    </tr>\n",
       "    <tr>\n",
       "      <th>2</th>\n",
       "      <td>BA History</td>\n",
       "      <td>AAA</td>\n",
       "      <td>None</td>\n",
       "      <td>['HY120', 'LSE100']</td>\n",
       "      <td>[]</td>\n",
       "      <td>['HY300']</td>\n",
       "      <td>503.0</td>\n",
       "      <td>58.0</td>\n",
       "      <td>9:1</td>\n",
       "      <td>£9,535</td>\n",
       "      <td>£35,000</td>\n",
       "      <td>0.11531</td>\n",
       "    </tr>\n",
       "  </tbody>\n",
       "</table>\n",
       "</div>"
      ],
      "text/plain": [
       "                    degree a_lvl_req a_lvl_extra  \\\n",
       "0  BA Anthropology and Law       AAB        None   \n",
       "1             BA Geography       AAA        None   \n",
       "2               BA History       AAA        None   \n",
       "\n",
       "                                          modules_y1  \\\n",
       "0  ['LL141', 'AN100', 'AN101', 'LL142', 'LL108', ...   \n",
       "1              ['GY100', 'GY140', 'GY144', 'LSE100']   \n",
       "2                                ['HY120', 'LSE100']   \n",
       "\n",
       "                                      modules_y2 modules_y3  nr_applications  \\\n",
       "0  ['AN253', 'AN379', 'LL106', 'LL143', 'LL200']  ['LL276']            250.0   \n",
       "1                    ['GY245', 'GY246', 'GY212']  ['GY350']            377.0   \n",
       "2                                             []  ['HY300']            503.0   \n",
       "\n",
       "   intake ratio home_fee median_salary  acceptance_perc  \n",
       "0    20.0  13:1   £9,535       £34,500          0.08000  \n",
       "1    38.0  10:1   £9,535       £35,000          0.10080  \n",
       "2    58.0   9:1   £9,535       £35,000          0.11531  "
      ]
     },
     "execution_count": 6,
     "metadata": {},
     "output_type": "execute_result"
    }
   ],
   "source": [
    "programms_df_clean['intake'] = programms_df_clean['intake']\\\n",
    "    .astype(str)\\\n",
    "    .str.replace(r'[^\\d.]', '', regex=True)\n",
    "programms_df_clean['nr_applications'] = programms_df_clean['nr_applications']\\\n",
    "    .astype(str)\\\n",
    "    .str.replace(r'[^\\d.]', '', regex=True)\n",
    "\n",
    "programms_df_clean['intake'] = pd.to_numeric(programms_df_clean['intake'], errors='coerce')\n",
    "programms_df_clean['nr_applications'] = pd.to_numeric(programms_df_clean['nr_applications'], errors='coerce')\n",
    "programms_df_clean['acceptance_perc'] = (programms_df_clean['intake']/programms_df_clean['nr_applications']).round(5)\n",
    "programms_df_clean.head(3)"
   ]
  },
  {
   "cell_type": "markdown",
   "id": "098e7aeb-c38a-467f-9106-ce4717873bcf",
   "metadata": {},
   "source": [
    "We convert the median salaries into numeric form."
   ]
  },
  {
   "cell_type": "code",
   "execution_count": 7,
   "id": "0fed289b-f354-4ba4-8c47-672d70d10a74",
   "metadata": {},
   "outputs": [],
   "source": [
    "programms_df_clean['median_salary'] = programms_df_clean['median_salary'].str.replace(',', '').str.replace('£', '').astype(float)"
   ]
  },
  {
   "cell_type": "code",
   "execution_count": 8,
   "id": "09fbf05e-b6d1-4894-8b6a-751eed4cc682",
   "metadata": {},
   "outputs": [],
   "source": [
    "columns_to_drop = ['nr_applications', 'intake', 'ratio', 'home_fee']\n",
    "programms_df_clean.drop(columns=columns_to_drop, inplace=True)"
   ]
  },
  {
   "cell_type": "markdown",
   "id": "26c4ca2a-bdee-435c-b8da-d3ac114076fc",
   "metadata": {},
   "source": [
    "Now we clean the three module columns by defining a fuction that converts each string into a list and apply it to the module columns."
   ]
  },
  {
   "cell_type": "code",
   "execution_count": 9,
   "id": "3af73fe2-07fe-4d70-8712-81710c5144aa",
   "metadata": {},
   "outputs": [
    {
     "data": {
      "text/html": [
       "<div>\n",
       "<style scoped>\n",
       "    .dataframe tbody tr th:only-of-type {\n",
       "        vertical-align: middle;\n",
       "    }\n",
       "\n",
       "    .dataframe tbody tr th {\n",
       "        vertical-align: top;\n",
       "    }\n",
       "\n",
       "    .dataframe thead th {\n",
       "        text-align: right;\n",
       "    }\n",
       "</style>\n",
       "<table border=\"1\" class=\"dataframe\">\n",
       "  <thead>\n",
       "    <tr style=\"text-align: right;\">\n",
       "      <th></th>\n",
       "      <th>degree</th>\n",
       "      <th>a_lvl_req</th>\n",
       "      <th>a_lvl_extra</th>\n",
       "      <th>modules_y1</th>\n",
       "      <th>modules_y2</th>\n",
       "      <th>modules_y3</th>\n",
       "      <th>median_salary</th>\n",
       "      <th>acceptance_perc</th>\n",
       "    </tr>\n",
       "  </thead>\n",
       "  <tbody>\n",
       "    <tr>\n",
       "      <th>0</th>\n",
       "      <td>BA Anthropology and Law</td>\n",
       "      <td>AAB</td>\n",
       "      <td>None</td>\n",
       "      <td>[LL141, AN100, AN101, LL142, LL108, LL100, LL1...</td>\n",
       "      <td>[AN253, AN379, LL106, LL143, LL200]</td>\n",
       "      <td>[LL276]</td>\n",
       "      <td>34500.0</td>\n",
       "      <td>0.08000</td>\n",
       "    </tr>\n",
       "    <tr>\n",
       "      <th>1</th>\n",
       "      <td>BA Geography</td>\n",
       "      <td>AAA</td>\n",
       "      <td>None</td>\n",
       "      <td>[GY100, GY140, GY144, LSE100]</td>\n",
       "      <td>[GY245, GY246, GY212]</td>\n",
       "      <td>[GY350]</td>\n",
       "      <td>35000.0</td>\n",
       "      <td>0.10080</td>\n",
       "    </tr>\n",
       "    <tr>\n",
       "      <th>2</th>\n",
       "      <td>BA History</td>\n",
       "      <td>AAA</td>\n",
       "      <td>None</td>\n",
       "      <td>[HY120, LSE100]</td>\n",
       "      <td>[]</td>\n",
       "      <td>[HY300]</td>\n",
       "      <td>35000.0</td>\n",
       "      <td>0.11531</td>\n",
       "    </tr>\n",
       "  </tbody>\n",
       "</table>\n",
       "</div>"
      ],
      "text/plain": [
       "                    degree a_lvl_req a_lvl_extra  \\\n",
       "0  BA Anthropology and Law       AAB        None   \n",
       "1             BA Geography       AAA        None   \n",
       "2               BA History       AAA        None   \n",
       "\n",
       "                                          modules_y1  \\\n",
       "0  [LL141, AN100, AN101, LL142, LL108, LL100, LL1...   \n",
       "1                      [GY100, GY140, GY144, LSE100]   \n",
       "2                                    [HY120, LSE100]   \n",
       "\n",
       "                            modules_y2 modules_y3  median_salary  \\\n",
       "0  [AN253, AN379, LL106, LL143, LL200]    [LL276]        34500.0   \n",
       "1                [GY245, GY246, GY212]    [GY350]        35000.0   \n",
       "2                                   []    [HY300]        35000.0   \n",
       "\n",
       "   acceptance_perc  \n",
       "0          0.08000  \n",
       "1          0.10080  \n",
       "2          0.11531  "
      ]
     },
     "execution_count": 9,
     "metadata": {},
     "output_type": "execute_result"
    }
   ],
   "source": [
    "import pandas as pd\n",
    "def parse_list_strings(val):\n",
    "    if isinstance(val, list):\n",
    "        return val\n",
    "    if pd.isna(val):\n",
    "        return []\n",
    "    s = str(val).strip()\n",
    "    if s in (\"[]\", \"\"):\n",
    "        return []\n",
    "    inner = s.strip(\"[]\")\n",
    "    return [tok.strip().strip(\"'\\\"\") for tok in inner.split(\",\") if tok.strip()]\n",
    "for col in [\"modules_y1\", \"modules_y2\", \"modules_y3\"]:\n",
    "    programms_df_clean[col] = programms_df_clean[col].apply(parse_list_strings)\n",
    "\n",
    "programms_df_clean.head(3)"
   ]
  },
  {
   "cell_type": "code",
   "execution_count": 10,
   "id": "9398a833",
   "metadata": {},
   "outputs": [],
   "source": [
    "def parse_list_string(s):\n",
    "    if isinstance(s, str):\n",
    "        if pd.isna(s) or s.strip() == '[]':  # Check if the string is '[]' or NaN\n",
    "            return []\n",
    "        return [item.strip().strip(\"'\\\"\") for item in s.strip('[]').split(',')]\n",
    "    return []  # In case s is not a string (or is NaN)\n"
   ]
  },
  {
   "cell_type": "markdown",
   "id": "87eca4e0-0ebe-4bc5-9368-c919a77222ae",
   "metadata": {},
   "source": [
    "We find the optionality (how many optimal modules there are) of each degree in terms of module units. We do that by defining a function that takes each compulsory module from the lists of each module column (the module columns only state the compulsory modules per year for each degree) and maps it to its corresponding unit value of either 0.5 or 1.0. After doing that we create 3 new columns which show how many units of compulsory modules each degree has for each year. In the cell below the following we calculate the optionality by subtracting the total compulsory units per degree/programme, from the 12.5 units worth of modules that all undergrad degrees have at LSE. We finally rank the degrees by optionality and present the top/bottom 5 in that regard."
   ]
  },
  {
   "cell_type": "code",
   "execution_count": 11,
   "id": "16937fd0-6ef7-4ac8-a2ab-1ac7f8f3fe34",
   "metadata": {},
   "outputs": [],
   "source": [
    "module_units_dict = (modules_df.set_index(\"code\")[\"units\"].to_dict())\n",
    "def sum_units(cell, lookup):\n",
    " \n",
    "    if isinstance(cell, list):\n",
    "        return sum(lookup.get(m, 0) for m in cell)\n",
    "    return 0\n",
    "\n",
    "for year_col, total_col in [(\"modules_y1\", \"y1_total_units\"), (\"modules_y2\", \"y2_total_units\"), (\"modules_y3\", \"y3_total_units\"),]:\n",
    "    programms_df_clean[total_col] = programms_df_clean[year_col].apply(lambda cell: sum_units(cell, module_units_dict))"
   ]
  },
  {
   "cell_type": "code",
   "execution_count": 12,
   "id": "432fb8bd-f692-4f63-bb6b-d7a8a3505bbd",
   "metadata": {},
   "outputs": [
    {
     "data": {
      "text/html": [
       "<div>\n",
       "<style scoped>\n",
       "    .dataframe tbody tr th:only-of-type {\n",
       "        vertical-align: middle;\n",
       "    }\n",
       "\n",
       "    .dataframe tbody tr th {\n",
       "        vertical-align: top;\n",
       "    }\n",
       "\n",
       "    .dataframe thead tr th {\n",
       "        text-align: left;\n",
       "    }\n",
       "</style>\n",
       "<table border=\"1\" class=\"dataframe\">\n",
       "  <thead>\n",
       "    <tr>\n",
       "      <th></th>\n",
       "      <th colspan=\"2\" halign=\"left\">Top 5 Optional Units</th>\n",
       "      <th colspan=\"2\" halign=\"left\">Bottom 5 Optional Units</th>\n",
       "    </tr>\n",
       "    <tr>\n",
       "      <th></th>\n",
       "      <th>degree</th>\n",
       "      <th>total_optional_units</th>\n",
       "      <th>degree</th>\n",
       "      <th>total_optional_units</th>\n",
       "    </tr>\n",
       "  </thead>\n",
       "  <tbody>\n",
       "    <tr>\n",
       "      <th>0</th>\n",
       "      <td>BSc International Relations and History</td>\n",
       "      <td>11.0</td>\n",
       "      <td>BSc Finance</td>\n",
       "      <td>2.0</td>\n",
       "    </tr>\n",
       "    <tr>\n",
       "      <th>1</th>\n",
       "      <td>BA History</td>\n",
       "      <td>10.0</td>\n",
       "      <td>BSc Financial Mathematics and Statistics</td>\n",
       "      <td>2.0</td>\n",
       "    </tr>\n",
       "    <tr>\n",
       "      <th>2</th>\n",
       "      <td>BSc History and Politics</td>\n",
       "      <td>10.0</td>\n",
       "      <td>BSc Psychological and Behavioural Science</td>\n",
       "      <td>3.5</td>\n",
       "    </tr>\n",
       "    <tr>\n",
       "      <th>3</th>\n",
       "      <td>BSc International Relations</td>\n",
       "      <td>10.0</td>\n",
       "      <td>BA Anthropology and Law</td>\n",
       "      <td>4.0</td>\n",
       "    </tr>\n",
       "    <tr>\n",
       "      <th>4</th>\n",
       "      <td>BSc Politics</td>\n",
       "      <td>10.0</td>\n",
       "      <td>BSc Economic History and Geography</td>\n",
       "      <td>4.0</td>\n",
       "    </tr>\n",
       "  </tbody>\n",
       "</table>\n",
       "</div>"
      ],
      "text/plain": [
       "                      Top 5 Optional Units                       \\\n",
       "                                    degree total_optional_units   \n",
       "0  BSc International Relations and History                 11.0   \n",
       "1                               BA History                 10.0   \n",
       "2                 BSc History and Politics                 10.0   \n",
       "3              BSc International Relations                 10.0   \n",
       "4                             BSc Politics                 10.0   \n",
       "\n",
       "                     Bottom 5 Optional Units                       \n",
       "                                      degree total_optional_units  \n",
       "0                                BSc Finance                  2.0  \n",
       "1   BSc Financial Mathematics and Statistics                  2.0  \n",
       "2  BSc Psychological and Behavioural Science                  3.5  \n",
       "3                    BA Anthropology and Law                  4.0  \n",
       "4         BSc Economic History and Geography                  4.0  "
      ]
     },
     "execution_count": 12,
     "metadata": {},
     "output_type": "execute_result"
    }
   ],
   "source": [
    "programms_df_clean['total_compulsory_units'] = ( programms_df_clean['y1_total_units'] + programms_df_clean['y2_total_units'] + programms_df_clean['y3_total_units'])\n",
    "programms_df_clean['total_optional_units'] = 12.5 - programms_df_clean['total_compulsory_units']\n",
    "top5_optional = (programms_df_clean[['degree', 'total_optional_units']].nlargest(5, 'total_optional_units').reset_index(drop=True))\n",
    "bot5_optional = (programms_df_clean[['degree', 'total_optional_units']].nsmallest(5, 'total_optional_units').reset_index(drop=True))\n",
    "pd.concat([top5_optional, bot5_optional], axis=1, keys=['Top 5 Optional Units', 'Bottom 5 Optional Units'])"
   ]
  },
  {
   "cell_type": "code",
   "execution_count": 13,
   "id": "fe20dfa4-7e7e-45bb-9216-d71d889038c1",
   "metadata": {},
   "outputs": [
    {
     "data": {
      "image/png": "[encoded data removed]",
      "text/plain": [
       "<Figure size 800x400 with 1 Axes>"
      ]
     },
     "metadata": {},
     "output_type": "display_data"
    }
   ],
   "source": [
    "plt.figure(figsize=(8, 4))\n",
    "sns.boxplot(x=programms_df_clean['median_salary'])\n",
    "plt.title('Distribution of Median Salaries for Degrees')\n",
    "plt.xlabel('Median Salary (£)')\n",
    "plt.grid(axis='x', linestyle='--', alpha=0.6) \n",
    "plt.show()"
   ]
  },
  {
   "cell_type": "markdown",
   "id": "aaf6092f",
   "metadata": {},
   "source": [
    "The box plot above clearly depicts that the median 50% of programme graduation salaries are in the range of £35,000-£37,000. Finally, all programmes, apart from 3 outliers, lie within the range of £30,000 to £40,000, meaning that typically there is no great discrepancy."
   ]
  },
  {
   "cell_type": "code",
   "execution_count": 14,
   "id": "c845fbf1-34b6-4671-9515-a64b21f5a7f0",
   "metadata": {},
   "outputs": [
    {
     "data": {
      "text/html": [
       "<div>\n",
       "<style scoped>\n",
       "    .dataframe tbody tr th:only-of-type {\n",
       "        vertical-align: middle;\n",
       "    }\n",
       "\n",
       "    .dataframe tbody tr th {\n",
       "        vertical-align: top;\n",
       "    }\n",
       "\n",
       "    .dataframe thead th {\n",
       "        text-align: right;\n",
       "    }\n",
       "</style>\n",
       "<table border=\"1\" class=\"dataframe\">\n",
       "  <thead>\n",
       "    <tr style=\"text-align: right;\">\n",
       "      <th></th>\n",
       "      <th>Top 5 Degrees</th>\n",
       "      <th>Top Salaries (£)</th>\n",
       "      <th>Bottom 5 Degrees</th>\n",
       "      <th>Bottom Salaries (£)</th>\n",
       "    </tr>\n",
       "  </thead>\n",
       "  <tbody>\n",
       "    <tr>\n",
       "      <th>0</th>\n",
       "      <td>BSc Finance</td>\n",
       "      <td>65000.0</td>\n",
       "      <td>BSc International Relations</td>\n",
       "      <td>27500.0</td>\n",
       "    </tr>\n",
       "    <tr>\n",
       "      <th>1</th>\n",
       "      <td>BSc Econometrics and Mathematical Economics</td>\n",
       "      <td>55000.0</td>\n",
       "      <td>BSc Sociology</td>\n",
       "      <td>30000.0</td>\n",
       "    </tr>\n",
       "    <tr>\n",
       "      <th>2</th>\n",
       "      <td>BSc Economics</td>\n",
       "      <td>55000.0</td>\n",
       "      <td>BSc International Social and Public Policy</td>\n",
       "      <td>32000.0</td>\n",
       "    </tr>\n",
       "    <tr>\n",
       "      <th>3</th>\n",
       "      <td>BSc Financial Mathematics and Statistics</td>\n",
       "      <td>40000.0</td>\n",
       "      <td>BSc International Social and Public Policy wit...</td>\n",
       "      <td>32000.0</td>\n",
       "    </tr>\n",
       "    <tr>\n",
       "      <th>4</th>\n",
       "      <td>BSc Mathematics and Economics</td>\n",
       "      <td>40000.0</td>\n",
       "      <td>BA Anthropology and Law</td>\n",
       "      <td>34500.0</td>\n",
       "    </tr>\n",
       "  </tbody>\n",
       "</table>\n",
       "</div>"
      ],
      "text/plain": [
       "                                 Top 5 Degrees  Top Salaries (£)  \\\n",
       "0                                  BSc Finance           65000.0   \n",
       "1  BSc Econometrics and Mathematical Economics           55000.0   \n",
       "2                                BSc Economics           55000.0   \n",
       "3     BSc Financial Mathematics and Statistics           40000.0   \n",
       "4                BSc Mathematics and Economics           40000.0   \n",
       "\n",
       "                                    Bottom 5 Degrees  Bottom Salaries (£)  \n",
       "0                        BSc International Relations              27500.0  \n",
       "1                                      BSc Sociology              30000.0  \n",
       "2         BSc International Social and Public Policy              32000.0  \n",
       "3  BSc International Social and Public Policy wit...              32000.0  \n",
       "4                            BA Anthropology and Law              34500.0  "
      ]
     },
     "execution_count": 14,
     "metadata": {},
     "output_type": "execute_result"
    }
   ],
   "source": [
    "top5 = programms_df_clean.nlargest(5, 'median_salary')[['degree', 'median_salary']]\\\n",
    "           .reset_index(drop=True)\n",
    "bottom5 = programms_df_clean.nsmallest(5, 'median_salary')[['degree', 'median_salary']]\\\n",
    "              .reset_index(drop=True)\n",
    "\n",
    "top5.columns = ['Top 5 Degrees', 'Top Salaries (£)']\n",
    "bottom5.columns = ['Bottom 5 Degrees', 'Bottom Salaries (£)']\n",
    "\n",
    "pd.concat([top5, bottom5], axis=1)\n",
    "\n",
    "## to delete"
   ]
  },
  {
   "cell_type": "code",
   "execution_count": 15,
   "id": "c8792303-c759-4227-9f03-0e41fca89fcc",
   "metadata": {},
   "outputs": [
    {
     "data": {
      "image/png": "[encoded data removed]",
      "text/plain": [
       "<Figure size 800x400 with 1 Axes>"
      ]
     },
     "metadata": {},
     "output_type": "display_data"
    }
   ],
   "source": [
    "requirement_order = sorted(programms_df_clean['a_lvl_req'].unique(), reverse=True) \n",
    "plt.figure(figsize=(8,4))\n",
    "sns.boxplot(data=programms_df_clean, x='a_lvl_req', y='median_salary', order=requirement_order, palette='coolwarm', hue='a_lvl_req')\n",
    "\n",
    "plt.title('Median Salary Distribution by A-Level Requirement')\n",
    "plt.xlabel('A-Level Requirement')\n",
    "plt.ylabel('Median Salary (£)')\n",
    "plt.xticks(rotation=45, ha='right')\n",
    "plt.grid(axis='y', linestyle='--', alpha=0.6)\n",
    "plt.tight_layout()\n",
    "plt.show()"
   ]
  },
  {
   "cell_type": "markdown",
   "id": "439710b8",
   "metadata": {},
   "source": [
    "This is one of the most informative graphs in our survey. Median salary seems to be heavily reliant on the A-level requirement of each degree. More specifically, each category of A-level requirement seems to be separated in margins. “AAB” ranges from £30,000 to £35,000; “AAA” ranges from £35,000 to £36,000; and “A*AA” ranges from £37,000 to £40,000. These observations refer to the median 50% of each category.\n",
    "\n",
    "\n"
   ]
  },
  {
   "cell_type": "code",
   "execution_count": 16,
   "id": "d19a06b5-16ab-4dde-9dfc-8fd4f3366831",
   "metadata": {},
   "outputs": [
    {
     "data": {
      "image/png": "[encoded data removed]",
      "text/plain": [
       "<Figure size 1000x600 with 1 Axes>"
      ]
     },
     "metadata": {},
     "output_type": "display_data"
    },
    {
     "name": "stdout",
     "output_type": "stream",
     "text": [
      "Correlation between Acceptance Percentage and Median Salary: -0.19\n"
     ]
    }
   ],
   "source": [
    "plt.figure(figsize=(10, 6))\n",
    "sns.scatterplot(data=programms_df_clean, x='acceptance_perc', y='median_salary', hue='a_lvl_req', alpha=0.7)\n",
    "\n",
    "plt.title('Median Salary vs. Acceptance Percentage by Degree')\n",
    "plt.xlabel('Acceptance Percentage (Intake / Applications)')\n",
    "plt.ylabel('Median Salary (£)')\n",
    "plt.grid(linestyle='--', alpha=0.6)\n",
    "plt.legend(title='A-Level Req', bbox_to_anchor=(1.05, 1), loc='upper left')\n",
    "plt.tight_layout()\n",
    "plt.show()\n",
    "\n",
    "correlation = programms_df_clean['acceptance_perc'].corr(programms_df_clean['median_salary'])\n",
    "print(f\"Correlation between Acceptance Percentage and Median Salary: {correlation:.2f}\")"
   ]
  },
  {
   "cell_type": "markdown",
   "id": "551a33b7",
   "metadata": {},
   "source": [
    "## 4. Module Data Preperation\n"
   ]
  },
  {
   "cell_type": "markdown",
   "id": "4701b777",
   "metadata": {},
   "source": [
    "* 4.1. _Preparing Module Data Tables_\n",
    "* 4.2.\t_Why did we choose these degrees_\n",
    "* 4.3.\t_The general method employed_\n",
    "* 4.4.\t_Discovering the Designs_\n",
    "   * 4.41. Finance\n",
    "   * 4.42. Economics\n",
    "   * 4.43. International Relations\n",
    "   * 4.44. Politics and Economics\n",
    "   * 4.45. Physchological and Behavioural Sciences\n",
    "* 4.5 _Putting it All Together_"
   ]
  },
  {
   "cell_type": "markdown",
   "id": "de3ff2e0",
   "metadata": {},
   "source": []
  },
  {
   "cell_type": "markdown",
   "id": "88aaa2c9",
   "metadata": {},
   "source": [
    "###  4.1 Preparing Module Table and Outside Option Table\n",
    "\n",
    "*We prepare tables we need for preparing the degree designs, and also begin preparing tables giving us a sense of mark distribution\n",
    "\n",
    "**4.1.1 Creating Merged Tables** \n",
    "* We begin by grouping up the different course code to isolate the data for the summary statistics for each course code. We took the arithmetic mean across the different years for each course code. Finally we duplicated this table and merged with the outside option list we scraped from before to create a table of outside options and their respective scores."
   ]
  },
  {
   "cell_type": "code",
   "execution_count": 17,
   "id": "b59eeba0",
   "metadata": {
    "scrolled": true
   },
   "outputs": [
    {
     "data": {
      "text/html": [
       "<div>\n",
       "<style scoped>\n",
       "    .dataframe tbody tr th:only-of-type {\n",
       "        vertical-align: middle;\n",
       "    }\n",
       "\n",
       "    .dataframe tbody tr th {\n",
       "        vertical-align: top;\n",
       "    }\n",
       "\n",
       "    .dataframe thead th {\n",
       "        text-align: right;\n",
       "    }\n",
       "</style>\n",
       "<table border=\"1\" class=\"dataframe\">\n",
       "  <thead>\n",
       "    <tr style=\"text-align: right;\">\n",
       "      <th></th>\n",
       "      <th>code</th>\n",
       "      <th>units_x</th>\n",
       "      <th>department</th>\n",
       "      <th>mean</th>\n",
       "      <th>q10</th>\n",
       "      <th>Median</th>\n",
       "      <th>q90</th>\n",
       "      <th>Pooled_SD</th>\n",
       "      <th>prerequisites</th>\n",
       "      <th>mutually_exclusive_courses</th>\n",
       "    </tr>\n",
       "  </thead>\n",
       "  <tbody>\n",
       "    <tr>\n",
       "      <th>67</th>\n",
       "      <td>EC336</td>\n",
       "      <td>0.5</td>\n",
       "      <td>Economics</td>\n",
       "      <td>81.200000</td>\n",
       "      <td>71.500</td>\n",
       "      <td>82.500</td>\n",
       "      <td>89.500</td>\n",
       "      <td>8.300000</td>\n",
       "      <td>['ST102', 'MA100', 'ST109']</td>\n",
       "      <td>[]</td>\n",
       "    </tr>\n",
       "    <tr>\n",
       "      <th>69</th>\n",
       "      <td>EC338</td>\n",
       "      <td>0.5</td>\n",
       "      <td>Economics</td>\n",
       "      <td>75.300000</td>\n",
       "      <td>51.200</td>\n",
       "      <td>80.000</td>\n",
       "      <td>91.000</td>\n",
       "      <td>18.600000</td>\n",
       "      <td>['EC201', 'EC202']</td>\n",
       "      <td>[]</td>\n",
       "    </tr>\n",
       "    <tr>\n",
       "      <th>231</th>\n",
       "      <td>LN200</td>\n",
       "      <td>1.0</td>\n",
       "      <td>Language Centre</td>\n",
       "      <td>74.455556</td>\n",
       "      <td>72.525</td>\n",
       "      <td>74.625</td>\n",
       "      <td>75.925</td>\n",
       "      <td>2.844996</td>\n",
       "      <td>['LN100']</td>\n",
       "      <td>[]</td>\n",
       "    </tr>\n",
       "    <tr>\n",
       "      <th>252</th>\n",
       "      <td>MA209</td>\n",
       "      <td>0.5</td>\n",
       "      <td>Mathematics</td>\n",
       "      <td>74.407551</td>\n",
       "      <td>55.860</td>\n",
       "      <td>75.100</td>\n",
       "      <td>91.980</td>\n",
       "      <td>14.521311</td>\n",
       "      <td>['MA203', 'MA212', 'MA103', 'MA102', 'MA100']</td>\n",
       "      <td>[]</td>\n",
       "    </tr>\n",
       "    <tr>\n",
       "      <th>38</th>\n",
       "      <td>DS105A</td>\n",
       "      <td>0.5</td>\n",
       "      <td>Data Science Institute</td>\n",
       "      <td>73.800000</td>\n",
       "      <td>62.800</td>\n",
       "      <td>76.000</td>\n",
       "      <td>84.000</td>\n",
       "      <td>9.700000</td>\n",
       "      <td>[]</td>\n",
       "      <td>['DS105W']</td>\n",
       "    </tr>\n",
       "  </tbody>\n",
       "</table>\n",
       "</div>"
      ],
      "text/plain": [
       "       code  units_x              department       mean     q10  Median  \\\n",
       "67    EC336      0.5               Economics  81.200000  71.500  82.500   \n",
       "69    EC338      0.5               Economics  75.300000  51.200  80.000   \n",
       "231   LN200      1.0         Language Centre  74.455556  72.525  74.625   \n",
       "252   MA209      0.5             Mathematics  74.407551  55.860  75.100   \n",
       "38   DS105A      0.5  Data Science Institute  73.800000  62.800  76.000   \n",
       "\n",
       "        q90  Pooled_SD                                  prerequisites  \\\n",
       "67   89.500   8.300000                    ['ST102', 'MA100', 'ST109']   \n",
       "69   91.000  18.600000                             ['EC201', 'EC202']   \n",
       "231  75.925   2.844996                                      ['LN100']   \n",
       "252  91.980  14.521311  ['MA203', 'MA212', 'MA103', 'MA102', 'MA100']   \n",
       "38   84.000   9.700000                                             []   \n",
       "\n",
       "    mutually_exclusive_courses  \n",
       "67                          []  \n",
       "69                          []  \n",
       "231                         []  \n",
       "252                         []  \n",
       "38                  ['DS105W']  "
      ]
     },
     "execution_count": 17,
     "metadata": {},
     "output_type": "execute_result"
    }
   ],
   "source": [
    "marks_df = pd.read_csv('data/modules/marks_summary_modules.csv')\n",
    "\n",
    "\n",
    "marks_df = marks_df[marks_df['code'].isin(marks_df[marks_df['year'] == '2023/24']['code'].unique())]\n",
    "# We only looked at courses which existed in 23.24\n",
    "\n",
    "\n",
    "summary_df = marks_df.groupby('code').apply(\n",
    "    lambda group: pd.Series({\n",
    "        'mean': np.average(group['mean'], weights=group['marks']) if group['marks'].sum() > 0 else np.nan,\n",
    "        'q10': group['q10'].mean() if group['marks'].sum() > 0 else np.nan,\n",
    "        'Median': group['median'].mean() if group['marks'].sum() > 0 else np.nan,\n",
    "        'q90': group['q90'].mean() if group['marks'].sum() > 0 else np.nan,\n",
    "        'Pooled_SD': (\n",
    "            np.sqrt(((group['marks'] - 1) * group['sd'] ** 2).sum() / (group['marks'].sum() - len(group)))\n",
    "            if group['marks'].sum() - len(group) > 0 else np.nan\n",
    "        ),\n",
    "        'Department': group['department'].mode()[0] if not group['department'].mode().empty else np.nan\n",
    "    })\n",
    ").reset_index()\n",
    "\n",
    "\n",
    "module_facts_df = pd.read_csv(\"data/modules/modul_key_facts_updated.csv\")\n",
    "summary_df = summary_df.merge(module_facts_df[['code', 'units']], on='code', how='left')\n",
    "\n",
    "\n",
    "outside_options = pd.read_csv('data/modules/outside_options.csv')\n",
    "\n",
    "\n",
    "outside_options_marks = outside_options.merge(summary_df,left_on='code',right_on='code',how='left')\n",
    "\n",
    "\n",
    "\n",
    "outside_options_marks.drop(columns=['course', 'total_students', 'avg_class_size', 'capped'], inplace=True)\n",
    "\n",
    "outside_options_marks.sort_values(by='mean', ascending=False, inplace=True)\n",
    "outside_options_marks[[\"code\",'units_x','department','mean','q10','Median','q90','Pooled_SD','prerequisites','mutually_exclusive_courses']].head()\n"
   ]
  },
  {
   "cell_type": "markdown",
   "id": "62743aca",
   "metadata": {},
   "source": [
    "**4.1.2 Calculating the Mean of The Compulsory Modules**\n",
    "\n",
    "* We began by defining a very crucial function, which works out the arithmetic mean of all the summary statistics for each of the course codes in any specified list of modules. We then apply this to the list of compulsory modules to test if it works as intended"
   ]
  },
  {
   "cell_type": "code",
   "execution_count": 18,
   "id": "82708452",
   "metadata": {},
   "outputs": [
    {
     "data": {
      "text/html": [
       "<div>\n",
       "<style scoped>\n",
       "    .dataframe tbody tr th:only-of-type {\n",
       "        vertical-align: middle;\n",
       "    }\n",
       "\n",
       "    .dataframe tbody tr th {\n",
       "        vertical-align: top;\n",
       "    }\n",
       "\n",
       "    .dataframe thead th {\n",
       "        text-align: right;\n",
       "    }\n",
       "</style>\n",
       "<table border=\"1\" class=\"dataframe\">\n",
       "  <thead>\n",
       "    <tr style=\"text-align: right;\">\n",
       "      <th></th>\n",
       "      <th>degree</th>\n",
       "      <th>Mean</th>\n",
       "      <th>Median</th>\n",
       "      <th>Q10</th>\n",
       "      <th>Q90</th>\n",
       "      <th>Pooled_SD</th>\n",
       "    </tr>\n",
       "  </thead>\n",
       "  <tbody>\n",
       "    <tr>\n",
       "      <th>38</th>\n",
       "      <td>BSc Psychological and Behavioural Science</td>\n",
       "      <td>66.849313</td>\n",
       "      <td>67.423077</td>\n",
       "      <td>60.559231</td>\n",
       "      <td>73.838077</td>\n",
       "      <td>7.911210</td>\n",
       "    </tr>\n",
       "    <tr>\n",
       "      <th>4</th>\n",
       "      <td>BSc Accounting and Finance</td>\n",
       "      <td>66.155615</td>\n",
       "      <td>66.850000</td>\n",
       "      <td>52.270000</td>\n",
       "      <td>79.310000</td>\n",
       "      <td>11.139688</td>\n",
       "    </tr>\n",
       "    <tr>\n",
       "      <th>22</th>\n",
       "      <td>BSc International Social and Public Policy</td>\n",
       "      <td>66.147790</td>\n",
       "      <td>66.800000</td>\n",
       "      <td>58.933333</td>\n",
       "      <td>73.440000</td>\n",
       "      <td>7.734817</td>\n",
       "    </tr>\n",
       "    <tr>\n",
       "      <th>32</th>\n",
       "      <td>BSc Philosophy Logic and Scientific Method</td>\n",
       "      <td>66.040740</td>\n",
       "      <td>67.995000</td>\n",
       "      <td>56.292000</td>\n",
       "      <td>75.436000</td>\n",
       "      <td>11.273243</td>\n",
       "    </tr>\n",
       "    <tr>\n",
       "      <th>9</th>\n",
       "      <td>BSc Economic History and Geography</td>\n",
       "      <td>65.753844</td>\n",
       "      <td>67.300000</td>\n",
       "      <td>57.370000</td>\n",
       "      <td>75.340000</td>\n",
       "      <td>9.786138</td>\n",
       "    </tr>\n",
       "  </tbody>\n",
       "</table>\n",
       "</div>"
      ],
      "text/plain": [
       "                                        degree       Mean     Median  \\\n",
       "38   BSc Psychological and Behavioural Science  66.849313  67.423077   \n",
       "4                   BSc Accounting and Finance  66.155615  66.850000   \n",
       "22  BSc International Social and Public Policy  66.147790  66.800000   \n",
       "32  BSc Philosophy Logic and Scientific Method  66.040740  67.995000   \n",
       "9           BSc Economic History and Geography  65.753844  67.300000   \n",
       "\n",
       "          Q10        Q90  Pooled_SD  \n",
       "38  60.559231  73.838077   7.911210  \n",
       "4   52.270000  79.310000  11.139688  \n",
       "22  58.933333  73.440000   7.734817  \n",
       "32  56.292000  75.436000  11.273243  \n",
       "9   57.370000  75.340000   9.786138  "
      ]
     },
     "execution_count": 18,
     "metadata": {},
     "output_type": "execute_result"
    }
   ],
   "source": [
    "def calculate_statistics_for_modules(module_list, summary_df):\n",
    "    \n",
    "    selected_modules = summary_df[summary_df['code'].isin(module_list)].copy()\n",
    "\n",
    "    \n",
    "    if selected_modules.empty:\n",
    "        return None, None, None, None, None\n",
    "\n",
    "    \n",
    "    if 'units' not in selected_modules.columns:\n",
    "        raise ValueError(\"summary_df must include a 'units' column to calculate weighted averages.\")\n",
    "\n",
    "    \n",
    "    weights = selected_modules['units']\n",
    "    total_weight = weights.sum()\n",
    "\n",
    "    mean_value = (selected_modules['mean'] * weights).sum() / total_weight\n",
    "    q10_value = (selected_modules['q10'] * weights).sum() / total_weight\n",
    "    median_value = (selected_modules['Median'] * weights).sum() / total_weight\n",
    "    q90_value = (selected_modules['q90'] * weights).sum() / total_weight\n",
    "    pooled_sd_value = (selected_modules['Pooled_SD'] * weights).sum() / total_weight\n",
    "\n",
    "    return mean_value, q10_value, median_value, q90_value, pooled_sd_value\n",
    "\n",
    "programms_df_clean['modules'] = programms_df_clean['modules_y1'] +programms_df_clean['modules_y2']\n",
    "+programms_df_clean['modules_y3']\n",
    "\n",
    "programms_df_clean[['Mean', 'Q10', 'Median', 'Q90', 'Pooled_SD']] = programms_df_clean['modules'].apply(\n",
    "    lambda x: pd.Series(\n",
    "        calculate_statistics_for_modules(x, summary_df)\n",
    "        if calculate_statistics_for_modules(x, summary_df) is not None\n",
    "        else [np.nan, np.nan, np.nan, np.nan, np.nan],\n",
    "        index=['Mean', 'Q10', 'Median', 'Q90', 'Pooled_SD']\n",
    "    ))\n",
    "\n",
    "programms_df_clean = programms_df_clean.sort_values(by='Mean', ascending=False)\n",
    "programms_df_clean[[\"degree\",\"Mean\",\"Median\",\"Q10\",\"Q90\",\"Pooled_SD\"]].head()"
   ]
  },
  {
   "cell_type": "markdown",
   "id": "aa1a5bb2",
   "metadata": {},
   "source": [
    "**4.1.3 First Year Outside Options** \n",
    "* We now filter outside options down to only include 1st year courses in a dataframe we call first year outside options. This is because certain courses have their 1st years choose from a list of 1st year outside options"
   ]
  },
  {
   "cell_type": "code",
   "execution_count": 19,
   "id": "1f526b06",
   "metadata": {},
   "outputs": [
    {
     "data": {
      "text/html": [
       "<div>\n",
       "<style scoped>\n",
       "    .dataframe tbody tr th:only-of-type {\n",
       "        vertical-align: middle;\n",
       "    }\n",
       "\n",
       "    .dataframe tbody tr th {\n",
       "        vertical-align: top;\n",
       "    }\n",
       "\n",
       "    .dataframe thead th {\n",
       "        text-align: right;\n",
       "    }\n",
       "</style>\n",
       "<table border=\"1\" class=\"dataframe\">\n",
       "  <thead>\n",
       "    <tr style=\"text-align: right;\">\n",
       "      <th></th>\n",
       "      <th>code</th>\n",
       "      <th>units_x</th>\n",
       "      <th>department</th>\n",
       "      <th>mean</th>\n",
       "      <th>q10</th>\n",
       "      <th>Median</th>\n",
       "      <th>q90</th>\n",
       "      <th>Pooled_SD</th>\n",
       "      <th>prerequisites</th>\n",
       "      <th>mutually_exclusive_courses</th>\n",
       "    </tr>\n",
       "  </thead>\n",
       "  <tbody>\n",
       "    <tr>\n",
       "      <th>38</th>\n",
       "      <td>DS105A</td>\n",
       "      <td>0.5</td>\n",
       "      <td>Data Science Institute</td>\n",
       "      <td>73.800000</td>\n",
       "      <td>62.80</td>\n",
       "      <td>76.000000</td>\n",
       "      <td>84.000000</td>\n",
       "      <td>9.700000</td>\n",
       "      <td>[]</td>\n",
       "      <td>['DS105W']</td>\n",
       "    </tr>\n",
       "    <tr>\n",
       "      <th>0</th>\n",
       "      <td>AC102</td>\n",
       "      <td>0.5</td>\n",
       "      <td>Accounting</td>\n",
       "      <td>71.771288</td>\n",
       "      <td>52.62</td>\n",
       "      <td>74.800000</td>\n",
       "      <td>87.580000</td>\n",
       "      <td>14.904358</td>\n",
       "      <td>[]</td>\n",
       "      <td>[]</td>\n",
       "    </tr>\n",
       "    <tr>\n",
       "      <th>39</th>\n",
       "      <td>DS105W</td>\n",
       "      <td>0.5</td>\n",
       "      <td>Data Science Institute</td>\n",
       "      <td>70.400000</td>\n",
       "      <td>59.00</td>\n",
       "      <td>73.000000</td>\n",
       "      <td>78.000000</td>\n",
       "      <td>8.000000</td>\n",
       "      <td>[]</td>\n",
       "      <td>['DS104A']</td>\n",
       "    </tr>\n",
       "    <tr>\n",
       "      <th>347</th>\n",
       "      <td>ST115</td>\n",
       "      <td>0.5</td>\n",
       "      <td>Statistics</td>\n",
       "      <td>70.102410</td>\n",
       "      <td>55.10</td>\n",
       "      <td>70.833333</td>\n",
       "      <td>85.766667</td>\n",
       "      <td>13.730301</td>\n",
       "      <td>['ST102', 'ST107', 'ST109']</td>\n",
       "      <td>[]</td>\n",
       "    </tr>\n",
       "    <tr>\n",
       "      <th>326</th>\n",
       "      <td>SP112</td>\n",
       "      <td>1.0</td>\n",
       "      <td>Social Policy</td>\n",
       "      <td>69.999363</td>\n",
       "      <td>64.08</td>\n",
       "      <td>70.700000</td>\n",
       "      <td>75.640000</td>\n",
       "      <td>5.477388</td>\n",
       "      <td>[]</td>\n",
       "      <td>[]</td>\n",
       "    </tr>\n",
       "  </tbody>\n",
       "</table>\n",
       "</div>"
      ],
      "text/plain": [
       "       code  units_x              department       mean    q10     Median  \\\n",
       "38   DS105A      0.5  Data Science Institute  73.800000  62.80  76.000000   \n",
       "0     AC102      0.5              Accounting  71.771288  52.62  74.800000   \n",
       "39   DS105W      0.5  Data Science Institute  70.400000  59.00  73.000000   \n",
       "347   ST115      0.5              Statistics  70.102410  55.10  70.833333   \n",
       "326   SP112      1.0           Social Policy  69.999363  64.08  70.700000   \n",
       "\n",
       "           q90  Pooled_SD                prerequisites  \\\n",
       "38   84.000000   9.700000                           []   \n",
       "0    87.580000  14.904358                           []   \n",
       "39   78.000000   8.000000                           []   \n",
       "347  85.766667  13.730301  ['ST102', 'ST107', 'ST109']   \n",
       "326  75.640000   5.477388                           []   \n",
       "\n",
       "    mutually_exclusive_courses  \n",
       "38                  ['DS105W']  \n",
       "0                           []  \n",
       "39                  ['DS104A']  \n",
       "347                         []  \n",
       "326                         []  "
      ]
     },
     "execution_count": 19,
     "metadata": {},
     "output_type": "execute_result"
    }
   ],
   "source": [
    "outside_options_1st_year = outside_options_marks.copy()\n",
    "outside_options_1st_year['course year'] = outside_options_1st_year['code'].str[2].astype(float)\n",
    "outside_options_1st_year = outside_options_1st_year[outside_options_1st_year['course year'] == 1.0]\n",
    "outside_options_1st_year = outside_options_1st_year.dropna(subset=['mean'])\n",
    "outside_options_1st_year[[\"code\",'units_x','department','mean','q10','Median','q90','Pooled_SD','prerequisites','mutually_exclusive_courses']].head()"
   ]
  },
  {
   "cell_type": "markdown",
   "id": "68903ee5",
   "metadata": {},
   "source": [
    "**4.1.4 Module Score Distribution by Department**\n",
    "* We create a table which groups up modules by department, taking an average of the means and providing a standard deviation figure for the courses in the department. We do this to really understand the distribution of scores between modules in order to spot any trends that may be useful down the line in preparing each degree design. "
   ]
  },
  {
   "cell_type": "code",
   "execution_count": 20,
   "id": "af7457b4",
   "metadata": {},
   "outputs": [
    {
     "data": {
      "text/html": [
       "<div>\n",
       "<style scoped>\n",
       "    .dataframe tbody tr th:only-of-type {\n",
       "        vertical-align: middle;\n",
       "    }\n",
       "\n",
       "    .dataframe tbody tr th {\n",
       "        vertical-align: top;\n",
       "    }\n",
       "\n",
       "    .dataframe thead th {\n",
       "        text-align: right;\n",
       "    }\n",
       "</style>\n",
       "<table border=\"1\" class=\"dataframe\">\n",
       "  <thead>\n",
       "    <tr style=\"text-align: right;\">\n",
       "      <th></th>\n",
       "      <th>Department</th>\n",
       "      <th>Department_Mean</th>\n",
       "      <th>Department_SD</th>\n",
       "    </tr>\n",
       "  </thead>\n",
       "  <tbody>\n",
       "    <tr>\n",
       "      <th>0</th>\n",
       "      <td>Mathematics</td>\n",
       "      <td>63.908494</td>\n",
       "      <td>6.080527</td>\n",
       "    </tr>\n",
       "    <tr>\n",
       "      <th>1</th>\n",
       "      <td>Economics</td>\n",
       "      <td>64.044502</td>\n",
       "      <td>5.602156</td>\n",
       "    </tr>\n",
       "    <tr>\n",
       "      <th>2</th>\n",
       "      <td>Accounting</td>\n",
       "      <td>64.813868</td>\n",
       "      <td>4.423465</td>\n",
       "    </tr>\n",
       "    <tr>\n",
       "      <th>3</th>\n",
       "      <td>Statistics</td>\n",
       "      <td>65.932935</td>\n",
       "      <td>3.984667</td>\n",
       "    </tr>\n",
       "    <tr>\n",
       "      <th>4</th>\n",
       "      <td>Management</td>\n",
       "      <td>64.843353</td>\n",
       "      <td>3.071243</td>\n",
       "    </tr>\n",
       "  </tbody>\n",
       "</table>\n",
       "</div>"
      ],
      "text/plain": [
       "    Department  Department_Mean  Department_SD\n",
       "0  Mathematics        63.908494       6.080527\n",
       "1    Economics        64.044502       5.602156\n",
       "2   Accounting        64.813868       4.423465\n",
       "3   Statistics        65.932935       3.984667\n",
       "4   Management        64.843353       3.071243"
      ]
     },
     "execution_count": 20,
     "metadata": {},
     "output_type": "execute_result"
    }
   ],
   "source": [
    "department_dist = summary_df.groupby('Department').agg(\n",
    "    Department_Mean=('mean', 'mean'),\n",
    "    Department_SD=('mean', 'std')\n",
    ").reset_index()\n",
    "department_dist_sorted = department_dist.sort_values(by='Department_SD', ascending=False).reset_index(drop=True)\n",
    "department_dist_sorted.head()"
   ]
  },
  {
   "cell_type": "markdown",
   "id": "809c8998",
   "metadata": {},
   "source": []
  },
  {
   "cell_type": "markdown",
   "id": "da7d1e9b",
   "metadata": {},
   "source": [
    "### 4.2 Why did we choose these degrees"
   ]
  },
  {
   "cell_type": "markdown",
   "id": "fe6ab5ce",
   "metadata": {},
   "source": [
    "**4.2.1**   \n",
    "   * Upon inspection of the different course pages, we quickly discovered how different the pages and courses were from each other. Making one master code which could analyse every single degree to produce a comprenhesive analysis would prove very difficult and prone to error. We hence limited our analysis to 5 degrees, all with certain charateristics which we believe make them interesting degrees to study. By limiting the number of degrees we could really ensure accuracy and that the choices of module that a student can make is very realistic. \n",
    "   * Due to every course being different from each other, we try defining functions which are as flexible as possible. This proved to work well. Whenever this broke down however we varied the code to handle these differences for each degree"
   ]
  },
  {
   "cell_type": "markdown",
   "id": "2949ef0f",
   "metadata": {},
   "source": [
    "**4.2.2 The Degrees**\n",
    "\n",
    "* _Finance_  - Only 2 units of Optionality (Least at LSE)\n",
    "* _Economics_ - High Graduation Salary, Very Low Acceptance and one of LSE's most Prestigous Courses\n",
    "* _International Relations_ - 11 Units of Optionality, and lowest Graduation Salary\n",
    "* _Politics and Economics_ - Most units chosen from the outside options list, and a double award degree\n",
    "* _Physchological and Behavioural Science_ - highest average amongst it's compulsory modules\n",
    "\n",
    "\n"
   ]
  },
  {
   "cell_type": "markdown",
   "id": "faa391b4",
   "metadata": {},
   "source": [
    "### 4.3 General Method Employed"
   ]
  },
  {
   "cell_type": "markdown",
   "id": "e8a37b23",
   "metadata": {},
   "source": [
    " * Whilst we have scraped all the compulsory courses for each degree possible, we discovered that in some cases there were errors in the list due to the scraping logic not being sophistaced enough to handle the very large differences in course pages. The optional courses were another issue entirely and so we manually created csv files for the degrees we chose to analyse, with the number of units, if its optional/compulsory and the year the module can be taken\n",
    "\n",
    "* We then prepare each possible combination of module that the student can take and seperate the student into a 'path' based on their 1st year optional module choice.We then use different types of logic, aided by a manual check of the data to ensure compatability to ensure all the optional modules comply with that degree design  of the hardest, easiest and middle values for the mean of means.\n",
    "\n",
    "* We then add to this one big table with all the degrees to use for further analysis \n",
    "\n"
   ]
  },
  {
   "cell_type": "markdown",
   "id": "203e6234",
   "metadata": {},
   "source": [
    "### 4.4 Preparing the Degree Designs"
   ]
  },
  {
   "cell_type": "markdown",
   "id": "45f8556a",
   "metadata": {},
   "source": [
    "### 4.41 Finance\n",
    "\n",
    "We begin with Finance (our degree), where we look and define most of the functions we will use for the rest of the degrees. \n",
    "\n",
    "**4.41.1: Hypothesis**\n",
    "* As Finance has very little optionality, we hypothesise that the difference between an easy and a hard modules would be limited"
   ]
  },
  {
   "cell_type": "markdown",
   "id": "de626593",
   "metadata": {},
   "source": [
    "**4.41.2: Loading in the Finance Module Options**"
   ]
  },
  {
   "cell_type": "code",
   "execution_count": 21,
   "id": "fe399edd",
   "metadata": {},
   "outputs": [
    {
     "data": {
      "text/html": [
       "<div>\n",
       "<style scoped>\n",
       "    .dataframe tbody tr th:only-of-type {\n",
       "        vertical-align: middle;\n",
       "    }\n",
       "\n",
       "    .dataframe tbody tr th {\n",
       "        vertical-align: top;\n",
       "    }\n",
       "\n",
       "    .dataframe thead th {\n",
       "        text-align: right;\n",
       "    }\n",
       "</style>\n",
       "<table border=\"1\" class=\"dataframe\">\n",
       "  <thead>\n",
       "    <tr style=\"text-align: right;\">\n",
       "      <th></th>\n",
       "      <th>Module</th>\n",
       "      <th>Year</th>\n",
       "      <th>Optional/Compulsory</th>\n",
       "      <th>Prerequisites</th>\n",
       "      <th>Units</th>\n",
       "    </tr>\n",
       "  </thead>\n",
       "  <tbody>\n",
       "    <tr>\n",
       "      <th>0</th>\n",
       "      <td>MA108</td>\n",
       "      <td>1.0</td>\n",
       "      <td>0</td>\n",
       "      <td>0.0</td>\n",
       "      <td>0.5</td>\n",
       "    </tr>\n",
       "    <tr>\n",
       "      <th>1</th>\n",
       "      <td>FM100</td>\n",
       "      <td>1.0</td>\n",
       "      <td>0</td>\n",
       "      <td>0.0</td>\n",
       "      <td>0.5</td>\n",
       "    </tr>\n",
       "    <tr>\n",
       "      <th>2</th>\n",
       "      <td>FM102</td>\n",
       "      <td>1.0</td>\n",
       "      <td>0</td>\n",
       "      <td>0.0</td>\n",
       "      <td>0.5</td>\n",
       "    </tr>\n",
       "    <tr>\n",
       "      <th>3</th>\n",
       "      <td>EC1A3</td>\n",
       "      <td>1.0</td>\n",
       "      <td>0</td>\n",
       "      <td>0.0</td>\n",
       "      <td>0.5</td>\n",
       "    </tr>\n",
       "    <tr>\n",
       "      <th>4</th>\n",
       "      <td>EC1B3</td>\n",
       "      <td>1.0</td>\n",
       "      <td>0</td>\n",
       "      <td>0.0</td>\n",
       "      <td>0.5</td>\n",
       "    </tr>\n",
       "  </tbody>\n",
       "</table>\n",
       "</div>"
      ],
      "text/plain": [
       "  Module  Year  Optional/Compulsory  Prerequisites  Units\n",
       "0  MA108   1.0                    0            0.0    0.5\n",
       "1  FM100   1.0                    0            0.0    0.5\n",
       "2  FM102   1.0                    0            0.0    0.5\n",
       "3  EC1A3   1.0                    0            0.0    0.5\n",
       "4  EC1B3   1.0                    0            0.0    0.5"
      ]
     },
     "execution_count": 21,
     "metadata": {},
     "output_type": "execute_result"
    }
   ],
   "source": [
    "finance_options = pd.read_csv(\"data/degrees/financem.csv\")\n",
    "finance_options.head(5)"
   ]
  },
  {
   "cell_type": "markdown",
   "id": "b14a63e7",
   "metadata": {},
   "source": [
    "**4.41.2 Preparing a table with just compulsory modules** \n",
    "* We now define a function which looks at all the compulsory modules a student can take ,and create a dataframe which makes a list of modules, the number of units taken and how many more units the student needs to take in first year (that isn't an outside option), marked OO in the Finance Options dataframe"
   ]
  },
  {
   "cell_type": "code",
   "execution_count": 22,
   "id": "e8d5dd30",
   "metadata": {},
   "outputs": [
    {
     "data": {
      "text/html": [
       "<div>\n",
       "<style scoped>\n",
       "    .dataframe tbody tr th:only-of-type {\n",
       "        vertical-align: middle;\n",
       "    }\n",
       "\n",
       "    .dataframe tbody tr th {\n",
       "        vertical-align: top;\n",
       "    }\n",
       "\n",
       "    .dataframe thead th {\n",
       "        text-align: right;\n",
       "    }\n",
       "</style>\n",
       "<table border=\"1\" class=\"dataframe\">\n",
       "  <thead>\n",
       "    <tr style=\"text-align: right;\">\n",
       "      <th></th>\n",
       "      <th>Compulsory Modules</th>\n",
       "      <th>Total Compulsory Units</th>\n",
       "      <th>Year 1 Non-OO Units Needed</th>\n",
       "    </tr>\n",
       "  </thead>\n",
       "  <tbody>\n",
       "    <tr>\n",
       "      <th>0</th>\n",
       "      <td>[MA108, FM100, FM102, EC1A3, EC1B3, ST102, FM2...</td>\n",
       "      <td>10.0</td>\n",
       "      <td>0.5</td>\n",
       "    </tr>\n",
       "  </tbody>\n",
       "</table>\n",
       "</div>"
      ],
      "text/plain": [
       "                                  Compulsory Modules  Total Compulsory Units  \\\n",
       "0  [MA108, FM100, FM102, EC1A3, EC1B3, ST102, FM2...                    10.0   \n",
       "\n",
       "   Year 1 Non-OO Units Needed  \n",
       "0                         0.5  "
      ]
     },
     "execution_count": 22,
     "metadata": {},
     "output_type": "execute_result"
    }
   ],
   "source": [
    "def summarize_compulsory_modules(df, standard_units_per_year=4):\n",
    "    df['Units'] = pd.to_numeric(df['Units'])\n",
    "    df['Year'] = pd.to_numeric(df['Year'])\n",
    "    \n",
    "    comp = df[df['Optional/Compulsory'] == 0]\n",
    "    oo = df[df['Module'].str.upper().str.contains('OO')]\n",
    "\n",
    "    y1_comp = comp[comp['Year'] == 1]['Units'].sum()\n",
    "    y1_oo = oo[oo['Year'] == 1]['Units'].sum()\n",
    "    y1_non_oo_needed = standard_units_per_year - y1_comp - y1_oo\n",
    "\n",
    "    return pd.DataFrame([{\n",
    "        'Compulsory Modules': comp['Module'].tolist(),\n",
    "        'Total Compulsory Units': comp['Units'].sum(),\n",
    "        'Year 1 Non-OO Units Needed': y1_non_oo_needed\n",
    "    }])\n",
    "\n",
    "initial_combinations_dffi = summarize_compulsory_modules(finance_options)\n",
    "initial_combinations_dffi"
   ]
  },
  {
   "cell_type": "markdown",
   "id": "a7a57db8",
   "metadata": {},
   "source": [
    "**4.41.3 Creating 'Paths' for each of the 1st-year optionals** \n",
    "* We define a function, which looks for all of the optional modules that aren't an outside option in 1st year to then create the list of modules which are compulsory and then the 1st year optional module the student chose. We decided to segment it like this, because 1st year choices are made before a student properly joins LSE and hence they wouldn't take course difficulty into account as much as their interest in learning that module\n"
   ]
  },
  {
   "cell_type": "code",
   "execution_count": 23,
   "id": "1226a457",
   "metadata": {},
   "outputs": [
    {
     "data": {
      "text/html": [
       "<div>\n",
       "<style scoped>\n",
       "    .dataframe tbody tr th:only-of-type {\n",
       "        vertical-align: middle;\n",
       "    }\n",
       "\n",
       "    .dataframe tbody tr th {\n",
       "        vertical-align: top;\n",
       "    }\n",
       "\n",
       "    .dataframe thead th {\n",
       "        text-align: right;\n",
       "    }\n",
       "</style>\n",
       "<table border=\"1\" class=\"dataframe\">\n",
       "  <thead>\n",
       "    <tr style=\"text-align: right;\">\n",
       "      <th></th>\n",
       "      <th>Modules</th>\n",
       "      <th>Optional Modules Added</th>\n",
       "      <th>Total Units</th>\n",
       "    </tr>\n",
       "  </thead>\n",
       "  <tbody>\n",
       "    <tr>\n",
       "      <th>0</th>\n",
       "      <td>[MA108, FM100, FM102, EC1A3, EC1B3, ST102, FM2...</td>\n",
       "      <td>[AC102]</td>\n",
       "      <td>10.5</td>\n",
       "    </tr>\n",
       "    <tr>\n",
       "      <th>1</th>\n",
       "      <td>[MA108, FM100, FM102, EC1A3, EC1B3, ST102, FM2...</td>\n",
       "      <td>[ST101]</td>\n",
       "      <td>10.5</td>\n",
       "    </tr>\n",
       "  </tbody>\n",
       "</table>\n",
       "</div>"
      ],
      "text/plain": [
       "                                             Modules Optional Modules Added  \\\n",
       "0  [MA108, FM100, FM102, EC1A3, EC1B3, ST102, FM2...                [AC102]   \n",
       "1  [MA108, FM100, FM102, EC1A3, EC1B3, ST102, FM2...                [ST101]   \n",
       "\n",
       "   Total Units  \n",
       "0         10.5  \n",
       "1         10.5  "
      ]
     },
     "execution_count": 23,
     "metadata": {},
     "output_type": "execute_result"
    }
   ],
   "source": [
    "from itertools import combinations\n",
    "\n",
    "def generate_year1_optional_combinations(base_summary_df, all_modules_df, standard_units_per_year=4):\n",
    "    needed = base_summary_df.iloc[0]['Year 1 Non-OO Units Needed']\n",
    "    comp_modules = base_summary_df.iloc[0]['Compulsory Modules']\n",
    "    comp_units = base_summary_df.iloc[0]['Total Compulsory Units']\n",
    "\n",
    "    modules = all_modules_df[\n",
    "        (all_modules_df['Optional/Compulsory'] == 1) & \n",
    "        (all_modules_df['Year'] == 1) & \n",
    "        (~all_modules_df['Module'].str.upper().str.contains('OO'))\n",
    "    ][['Module', 'Units']].dropna().values.tolist()\n",
    "    \n",
    "    if not modules:\n",
    "        return base_summary_df\n",
    "    \n",
    "    rows = []\n",
    "    for r in range(1, len(modules) + 1):\n",
    "        for combo in combinations(modules, r):\n",
    "            if sum(u for _, u in combo) == needed:\n",
    "                opts = [m for m, _ in combo]\n",
    "                rows.append({\n",
    "                    'Modules': comp_modules + opts,\n",
    "                    'Optional Modules Added': opts,\n",
    "                    'Total Units': comp_units + needed\n",
    "                })\n",
    "\n",
    "    return pd.DataFrame(rows)\n",
    "\n",
    "year1_combos_dffi = generate_year1_optional_combinations(initial_combinations_dffi, finance_options)\n",
    "year1_combos_dffi2 =year1_combos_dffi\n",
    "year1_combos_dffi2 "
   ]
  },
  {
   "cell_type": "markdown",
   "id": "add5e8b2",
   "metadata": {},
   "source": [
    "**4.41.4 Creating subrows** \n",
    "* This function just manipulates the dataframe, so that each optional module choice has a difficulty subrow as is shown below"
   ]
  },
  {
   "cell_type": "code",
   "execution_count": 24,
   "id": "8b42200b",
   "metadata": {},
   "outputs": [
    {
     "data": {
      "text/html": [
       "<div>\n",
       "<style scoped>\n",
       "    .dataframe tbody tr th:only-of-type {\n",
       "        vertical-align: middle;\n",
       "    }\n",
       "\n",
       "    .dataframe tbody tr th {\n",
       "        vertical-align: top;\n",
       "    }\n",
       "\n",
       "    .dataframe thead th {\n",
       "        text-align: right;\n",
       "    }\n",
       "</style>\n",
       "<table border=\"1\" class=\"dataframe\">\n",
       "  <thead>\n",
       "    <tr style=\"text-align: right;\">\n",
       "      <th></th>\n",
       "      <th>Modules</th>\n",
       "      <th>Optional Modules Added</th>\n",
       "      <th>Total Units</th>\n",
       "      <th>Difficulty</th>\n",
       "    </tr>\n",
       "  </thead>\n",
       "  <tbody>\n",
       "    <tr>\n",
       "      <th>0</th>\n",
       "      <td>[MA108, FM100, FM102, EC1A3, EC1B3, ST102, FM2...</td>\n",
       "      <td>[AC102]</td>\n",
       "      <td>10.5</td>\n",
       "      <td>Hard</td>\n",
       "    </tr>\n",
       "    <tr>\n",
       "      <th>0</th>\n",
       "      <td>[MA108, FM100, FM102, EC1A3, EC1B3, ST102, FM2...</td>\n",
       "      <td>[AC102]</td>\n",
       "      <td>10.5</td>\n",
       "      <td>Medium</td>\n",
       "    </tr>\n",
       "    <tr>\n",
       "      <th>0</th>\n",
       "      <td>[MA108, FM100, FM102, EC1A3, EC1B3, ST102, FM2...</td>\n",
       "      <td>[AC102]</td>\n",
       "      <td>10.5</td>\n",
       "      <td>Easy</td>\n",
       "    </tr>\n",
       "    <tr>\n",
       "      <th>1</th>\n",
       "      <td>[MA108, FM100, FM102, EC1A3, EC1B3, ST102, FM2...</td>\n",
       "      <td>[ST101]</td>\n",
       "      <td>10.5</td>\n",
       "      <td>Hard</td>\n",
       "    </tr>\n",
       "    <tr>\n",
       "      <th>1</th>\n",
       "      <td>[MA108, FM100, FM102, EC1A3, EC1B3, ST102, FM2...</td>\n",
       "      <td>[ST101]</td>\n",
       "      <td>10.5</td>\n",
       "      <td>Medium</td>\n",
       "    </tr>\n",
       "    <tr>\n",
       "      <th>1</th>\n",
       "      <td>[MA108, FM100, FM102, EC1A3, EC1B3, ST102, FM2...</td>\n",
       "      <td>[ST101]</td>\n",
       "      <td>10.5</td>\n",
       "      <td>Easy</td>\n",
       "    </tr>\n",
       "  </tbody>\n",
       "</table>\n",
       "</div>"
      ],
      "text/plain": [
       "                                             Modules Optional Modules Added  \\\n",
       "0  [MA108, FM100, FM102, EC1A3, EC1B3, ST102, FM2...                [AC102]   \n",
       "0  [MA108, FM100, FM102, EC1A3, EC1B3, ST102, FM2...                [AC102]   \n",
       "0  [MA108, FM100, FM102, EC1A3, EC1B3, ST102, FM2...                [AC102]   \n",
       "1  [MA108, FM100, FM102, EC1A3, EC1B3, ST102, FM2...                [ST101]   \n",
       "1  [MA108, FM100, FM102, EC1A3, EC1B3, ST102, FM2...                [ST101]   \n",
       "1  [MA108, FM100, FM102, EC1A3, EC1B3, ST102, FM2...                [ST101]   \n",
       "\n",
       "   Total Units Difficulty  \n",
       "0         10.5       Hard  \n",
       "0         10.5     Medium  \n",
       "0         10.5       Easy  \n",
       "1         10.5       Hard  \n",
       "1         10.5     Medium  \n",
       "1         10.5       Easy  "
      ]
     },
     "execution_count": 24,
     "metadata": {},
     "output_type": "execute_result"
    }
   ],
   "source": [
    "def create_difficulty_subrows(year1_combos_dfirf):\n",
    "    subrows = []\n",
    "    \n",
    "    for _, row in year1_combos_dfirf.iterrows():\n",
    "        for difficulty in ['Hard', 'Medium', 'Easy']:\n",
    "            subrow = row.copy()\n",
    "            subrow['Difficulty'] = difficulty\n",
    "            subrows.append(subrow)\n",
    "    \n",
    "    year1_combos_dfirf_expanded = pd.DataFrame(subrows)\n",
    "    \n",
    "    return year1_combos_dfirf_expanded\n",
    "year_1_combos_dffi3 = create_difficulty_subrows(year1_combos_dffi2)\n",
    "year_1_combos_dffi4=year_1_combos_dffi3.copy()\n",
    "year_1_combos_dffi4"
   ]
  },
  {
   "cell_type": "markdown",
   "id": "75bf978f",
   "metadata": {},
   "source": [
    "**4.41.5 Determining the Outside Options the Student Takes**\n",
    "\n",
    "* We define a function which searches a dataframe list of modules, and attempts to calculate the combination of modules with highest, middle and lowest mean values for a specified number of units. We will then manually check to see if that combination actually works against prerequisites"
   ]
  },
  {
   "cell_type": "code",
   "execution_count": 25,
   "id": "6b0d86be",
   "metadata": {},
   "outputs": [],
   "source": [
    "def find_mean_of_means_combinationsOO(df, target_units=4.0, code_col='code', mean_col='mean', unit_col='units_x'):\n",
    "    valid_combos = [\n",
    "        (\", \".join(getattr(c, code_col) for c in combo), np.mean([getattr(c, mean_col) for c in combo]))\n",
    "        for r in range(1, len(df) + 1)\n",
    "        for combo in itertools.combinations(df.itertuples(index=False), r)\n",
    "        if np.isclose(sum(getattr(c, unit_col) for c in combo), target_units)\n",
    "    ]\n",
    "\n",
    "    sorted_combos = sorted(valid_combos, key=lambda x: x[1])\n",
    "    mid_index = len(sorted_combos) // 2\n",
    "\n",
    "    \n",
    "    print(\"Lowest Mean of Means Combo:\", sorted_combos[0])\n",
    "    print(\"Median Mean of Means Combo:\", sorted_combos[mid_index])\n",
    "    print(\" Highest Mean of Means Combo:\", sorted_combos[-1])\n",
    "\n",
    "\n",
    "#find_mean_of_means_combinationsOO(outside_options_marks, target_units=1.5)"
   ]
  },
  {
   "cell_type": "markdown",
   "id": "965e102f",
   "metadata": {},
   "source": [
    "**4.41.6 Big Issue** \n",
    "* The code above produces a combinations of outside options up to 1.5 units but this took our computers took over an hour to run the code. This was because the number of combinations was in the billions. We realized that the process for finding outside options was going to have to go down a different front for outside options. We can only use this on lists of optional courses where the number of courses is much smaller\n",
    "* The original plan would be to look at the prerequisites list for each of the outside options the student can take, and then from there work out if that outside option is available to be taken based on the students prior modules. However the section listing prerequisites is incredibly different for every single module and it was impossible for us to come up with a way to extract all information effectively. We settled for adding it as a prerequsite if the course code is mentioned in the prerequisite subheading. However a lot of the prerequisites are mixed with Ands, Or's, or 2 of the 4, and it was very tricky for us to integrate this accurately. So we settled for simply analysing the list of outside options based on mean and choosing modules which are definitely valid and a realistic choice. This was time consuming and removed the automation of our code but we believe we preserved accuracy and hence this was a trade-off we wanted to make.  Furthermore, some outside options have other outside options as prerequisites and the code would then have to be dynamic which would significantly increase the length of code needed. So we defined a function which sorts the means of the outside options mark dataframe and displays a custom number of hard, easy and median mean value modules"
   ]
  },
  {
   "cell_type": "code",
   "execution_count": 26,
   "id": "56bddfcd",
   "metadata": {},
   "outputs": [
    {
     "name": "stdout",
     "output_type": "stream",
     "text": [
      "Hardest\n"
     ]
    },
    {
     "data": {
      "text/html": [
       "<div>\n",
       "<style scoped>\n",
       "    .dataframe tbody tr th:only-of-type {\n",
       "        vertical-align: middle;\n",
       "    }\n",
       "\n",
       "    .dataframe tbody tr th {\n",
       "        vertical-align: top;\n",
       "    }\n",
       "\n",
       "    .dataframe thead th {\n",
       "        text-align: right;\n",
       "    }\n",
       "</style>\n",
       "<table border=\"1\" class=\"dataframe\">\n",
       "  <thead>\n",
       "    <tr style=\"text-align: right;\">\n",
       "      <th></th>\n",
       "      <th>code</th>\n",
       "      <th>mean</th>\n",
       "      <th>prerequisites</th>\n",
       "      <th>mutually_exclusive_courses</th>\n",
       "      <th>units_x</th>\n",
       "    </tr>\n",
       "  </thead>\n",
       "  <tbody>\n",
       "    <tr>\n",
       "      <th>258</th>\n",
       "      <td>MA222</td>\n",
       "      <td>48.790000</td>\n",
       "      <td>['MA100']</td>\n",
       "      <td>[]</td>\n",
       "      <td>0.5</td>\n",
       "    </tr>\n",
       "    <tr>\n",
       "      <th>246</th>\n",
       "      <td>MA102</td>\n",
       "      <td>50.002740</td>\n",
       "      <td>['MA108', 'MA100', 'MA107']</td>\n",
       "      <td>['MA103']</td>\n",
       "      <td>0.5</td>\n",
       "    </tr>\n",
       "    <tr>\n",
       "      <th>45</th>\n",
       "      <td>EC1B3</td>\n",
       "      <td>51.712965</td>\n",
       "      <td>[]</td>\n",
       "      <td>['EC1B5']</td>\n",
       "      <td>0.5</td>\n",
       "    </tr>\n",
       "    <tr>\n",
       "      <th>52</th>\n",
       "      <td>EC2C4</td>\n",
       "      <td>53.003552</td>\n",
       "      <td>['ST102', 'MA107', 'ST107', 'MA100']</td>\n",
       "      <td>['MG205']</td>\n",
       "      <td>0.5</td>\n",
       "    </tr>\n",
       "    <tr>\n",
       "      <th>247</th>\n",
       "      <td>MA103</td>\n",
       "      <td>53.980561</td>\n",
       "      <td>['MA108', 'MA100', 'MA160P']</td>\n",
       "      <td>['MA102']</td>\n",
       "      <td>1.0</td>\n",
       "    </tr>\n",
       "  </tbody>\n",
       "</table>\n",
       "</div>"
      ],
      "text/plain": [
       "      code       mean                         prerequisites  \\\n",
       "258  MA222  48.790000                             ['MA100']   \n",
       "246  MA102  50.002740           ['MA108', 'MA100', 'MA107']   \n",
       "45   EC1B3  51.712965                                    []   \n",
       "52   EC2C4  53.003552  ['ST102', 'MA107', 'ST107', 'MA100']   \n",
       "247  MA103  53.980561          ['MA108', 'MA100', 'MA160P']   \n",
       "\n",
       "    mutually_exclusive_courses  units_x  \n",
       "258                         []      0.5  \n",
       "246                  ['MA103']      0.5  \n",
       "45                   ['EC1B5']      0.5  \n",
       "52                   ['MG205']      0.5  \n",
       "247                  ['MA102']      1.0  "
      ]
     },
     "metadata": {},
     "output_type": "display_data"
    },
    {
     "name": "stdout",
     "output_type": "stream",
     "text": [
      "Median\n"
     ]
    },
    {
     "data": {
      "text/html": [
       "<div>\n",
       "<style scoped>\n",
       "    .dataframe tbody tr th:only-of-type {\n",
       "        vertical-align: middle;\n",
       "    }\n",
       "\n",
       "    .dataframe tbody tr th {\n",
       "        vertical-align: top;\n",
       "    }\n",
       "\n",
       "    .dataframe thead th {\n",
       "        text-align: right;\n",
       "    }\n",
       "</style>\n",
       "<table border=\"1\" class=\"dataframe\">\n",
       "  <thead>\n",
       "    <tr style=\"text-align: right;\">\n",
       "      <th></th>\n",
       "      <th>code</th>\n",
       "      <th>mean</th>\n",
       "      <th>prerequisites</th>\n",
       "      <th>mutually_exclusive_courses</th>\n",
       "      <th>units_x</th>\n",
       "    </tr>\n",
       "  </thead>\n",
       "  <tbody>\n",
       "    <tr>\n",
       "      <th>203</th>\n",
       "      <td>LL272</td>\n",
       "      <td>65.661818</td>\n",
       "      <td>[]</td>\n",
       "      <td>[]</td>\n",
       "      <td>0.5</td>\n",
       "    </tr>\n",
       "    <tr>\n",
       "      <th>34</th>\n",
       "      <td>AN393</td>\n",
       "      <td>65.700000</td>\n",
       "      <td>['AN101', 'AN100', 'AN200']</td>\n",
       "      <td>[]</td>\n",
       "      <td>0.5</td>\n",
       "    </tr>\n",
       "    <tr>\n",
       "      <th>143</th>\n",
       "      <td>HY206</td>\n",
       "      <td>65.722128</td>\n",
       "      <td>[]</td>\n",
       "      <td>[]</td>\n",
       "      <td>1.0</td>\n",
       "    </tr>\n",
       "    <tr>\n",
       "      <th>24</th>\n",
       "      <td>AN276</td>\n",
       "      <td>65.730435</td>\n",
       "      <td>[]</td>\n",
       "      <td>[]</td>\n",
       "      <td>0.5</td>\n",
       "    </tr>\n",
       "    <tr>\n",
       "      <th>201</th>\n",
       "      <td>LL251</td>\n",
       "      <td>65.765789</td>\n",
       "      <td>[]</td>\n",
       "      <td>[]</td>\n",
       "      <td>1.0</td>\n",
       "    </tr>\n",
       "  </tbody>\n",
       "</table>\n",
       "</div>"
      ],
      "text/plain": [
       "      code       mean                prerequisites mutually_exclusive_courses  \\\n",
       "203  LL272  65.661818                           []                         []   \n",
       "34   AN393  65.700000  ['AN101', 'AN100', 'AN200']                         []   \n",
       "143  HY206  65.722128                           []                         []   \n",
       "24   AN276  65.730435                           []                         []   \n",
       "201  LL251  65.765789                           []                         []   \n",
       "\n",
       "     units_x  \n",
       "203      0.5  \n",
       "34       0.5  \n",
       "143      1.0  \n",
       "24       0.5  \n",
       "201      1.0  "
      ]
     },
     "metadata": {},
     "output_type": "display_data"
    },
    {
     "name": "stdout",
     "output_type": "stream",
     "text": [
      "Easiest\n"
     ]
    },
    {
     "data": {
      "text/html": [
       "<div>\n",
       "<style scoped>\n",
       "    .dataframe tbody tr th:only-of-type {\n",
       "        vertical-align: middle;\n",
       "    }\n",
       "\n",
       "    .dataframe tbody tr th {\n",
       "        vertical-align: top;\n",
       "    }\n",
       "\n",
       "    .dataframe thead th {\n",
       "        text-align: right;\n",
       "    }\n",
       "</style>\n",
       "<table border=\"1\" class=\"dataframe\">\n",
       "  <thead>\n",
       "    <tr style=\"text-align: right;\">\n",
       "      <th></th>\n",
       "      <th>code</th>\n",
       "      <th>mean</th>\n",
       "      <th>prerequisites</th>\n",
       "      <th>mutually_exclusive_courses</th>\n",
       "      <th>units_x</th>\n",
       "    </tr>\n",
       "  </thead>\n",
       "  <tbody>\n",
       "    <tr>\n",
       "      <th>38</th>\n",
       "      <td>DS105A</td>\n",
       "      <td>73.800000</td>\n",
       "      <td>[]</td>\n",
       "      <td>['DS105W']</td>\n",
       "      <td>0.5</td>\n",
       "    </tr>\n",
       "    <tr>\n",
       "      <th>252</th>\n",
       "      <td>MA209</td>\n",
       "      <td>74.407551</td>\n",
       "      <td>['MA203', 'MA212', 'MA103', 'MA102', 'MA100']</td>\n",
       "      <td>[]</td>\n",
       "      <td>0.5</td>\n",
       "    </tr>\n",
       "    <tr>\n",
       "      <th>231</th>\n",
       "      <td>LN200</td>\n",
       "      <td>74.455556</td>\n",
       "      <td>['LN100']</td>\n",
       "      <td>[]</td>\n",
       "      <td>1.0</td>\n",
       "    </tr>\n",
       "    <tr>\n",
       "      <th>69</th>\n",
       "      <td>EC338</td>\n",
       "      <td>75.300000</td>\n",
       "      <td>['EC201', 'EC202']</td>\n",
       "      <td>[]</td>\n",
       "      <td>0.5</td>\n",
       "    </tr>\n",
       "    <tr>\n",
       "      <th>67</th>\n",
       "      <td>EC336</td>\n",
       "      <td>81.200000</td>\n",
       "      <td>['ST102', 'MA100', 'ST109']</td>\n",
       "      <td>[]</td>\n",
       "      <td>0.5</td>\n",
       "    </tr>\n",
       "  </tbody>\n",
       "</table>\n",
       "</div>"
      ],
      "text/plain": [
       "       code       mean                                  prerequisites  \\\n",
       "38   DS105A  73.800000                                             []   \n",
       "252   MA209  74.407551  ['MA203', 'MA212', 'MA103', 'MA102', 'MA100']   \n",
       "231   LN200  74.455556                                      ['LN100']   \n",
       "69    EC338  75.300000                             ['EC201', 'EC202']   \n",
       "67    EC336  81.200000                    ['ST102', 'MA100', 'ST109']   \n",
       "\n",
       "    mutually_exclusive_courses  units_x  \n",
       "38                  ['DS105W']      0.5  \n",
       "252                         []      0.5  \n",
       "231                         []      1.0  \n",
       "69                          []      0.5  \n",
       "67                          []      0.5  "
      ]
     },
     "metadata": {},
     "output_type": "display_data"
    }
   ],
   "source": [
    "def print_sorted_by_mean(dataframe, num=5):\n",
    "    df = dataframe.dropna(subset=['mean']).sort_values(by='mean')\n",
    "    print('Hardest'); display(df.iloc[:num][['code', 'mean', 'prerequisites', 'mutually_exclusive_courses','units_x']])\n",
    "    print('Median'); display(df.iloc[len(df)//2 - num//2 : len(df)//2 + num//2 + (num%2)][['code', 'mean', 'prerequisites', 'mutually_exclusive_courses','units_x']])\n",
    "    print('Easiest'); display(df.iloc[-num:][['code', 'mean', 'prerequisites', 'mutually_exclusive_courses','units_x']])\n",
    "\n",
    "\n",
    "print_sorted_by_mean(outside_options_marks,num=5)"
   ]
  },
  {
   "cell_type": "markdown",
   "id": "5d1b9604",
   "metadata": {},
   "source": [
    "**4.41.7 Outside Option Selection**\n",
    "\n",
    "* Upon inspection of the dataframes above, we determined the hardest, easiest and middle outcomes of 1.5 units worth of outside options. We then manually checked this to ensure they were completely valid and then defined a function which would aim to add the dataframe to the one we have already produced above\n",
    "* We look at the median outcome as well throughout the analysis of degrees to understand what someone who wouldn't pay attention to module difficulty would pick on average. This was done as sanity check of our data to udnerstand the distribution within each degree"
   ]
  },
  {
   "cell_type": "code",
   "execution_count": 27,
   "id": "ba242ee1",
   "metadata": {},
   "outputs": [],
   "source": [
    "def expand_with_difficulty_variants(year1_combos_df, difficulty_df):\n",
    "    rows = []\n",
    "\n",
    "    for _, combo in year1_combos_df.iterrows():\n",
    "        for _, diff in difficulty_df.iterrows():\n",
    "            if (combo['Difficulty'] == diff['Difficulty'] and \n",
    "                combo['Optional Modules Added'] == diff['Optional Modules Added']):\n",
    "                rows.append({\n",
    "                    'Modules': combo['Modules'] + diff['OO_added'],\n",
    "                    'Optional Modules Added': combo['Optional Modules Added'] + diff['OO_added'],\n",
    "                    'Difficulty': combo['Difficulty'],\n",
    "                    **{k: combo[k] for k in combo.index if k not in ['Modules', 'Optional Modules Added', 'Difficulty']}\n",
    "                })\n",
    "\n",
    "    return pd.DataFrame(rows)"
   ]
  },
  {
   "cell_type": "markdown",
   "id": "4b2ed278",
   "metadata": {},
   "source": [
    "Based on the list of outside options and the students intitial choices, these are the valid outside options the student would take"
   ]
  },
  {
   "cell_type": "code",
   "execution_count": 28,
   "id": "473db8d8",
   "metadata": {},
   "outputs": [
    {
     "data": {
      "text/html": [
       "<div>\n",
       "<style scoped>\n",
       "    .dataframe tbody tr th:only-of-type {\n",
       "        vertical-align: middle;\n",
       "    }\n",
       "\n",
       "    .dataframe tbody tr th {\n",
       "        vertical-align: top;\n",
       "    }\n",
       "\n",
       "    .dataframe thead th {\n",
       "        text-align: right;\n",
       "    }\n",
       "</style>\n",
       "<table border=\"1\" class=\"dataframe\">\n",
       "  <thead>\n",
       "    <tr style=\"text-align: right;\">\n",
       "      <th></th>\n",
       "      <th>Modules</th>\n",
       "      <th>Optional Modules Added</th>\n",
       "      <th>Difficulty</th>\n",
       "      <th>Total Units</th>\n",
       "    </tr>\n",
       "  </thead>\n",
       "  <tbody>\n",
       "    <tr>\n",
       "      <th>0</th>\n",
       "      <td>[MA108, FM100, FM102, EC1A3, EC1B3, ST102, FM2...</td>\n",
       "      <td>[AC102, MA102, AC332, EC339]</td>\n",
       "      <td>Hard</td>\n",
       "      <td>10.5</td>\n",
       "    </tr>\n",
       "    <tr>\n",
       "      <th>1</th>\n",
       "      <td>[MA108, FM100, FM102, EC1A3, EC1B3, ST102, FM2...</td>\n",
       "      <td>[AC102, AC342, LL251]</td>\n",
       "      <td>Medium</td>\n",
       "      <td>10.5</td>\n",
       "    </tr>\n",
       "    <tr>\n",
       "      <th>2</th>\n",
       "      <td>[MA108, FM100, FM102, EC1A3, EC1B3, ST102, FM2...</td>\n",
       "      <td>[AC102, DS105A, EH209]</td>\n",
       "      <td>Easy</td>\n",
       "      <td>10.5</td>\n",
       "    </tr>\n",
       "    <tr>\n",
       "      <th>3</th>\n",
       "      <td>[MA108, FM100, FM102, EC1A3, EC1B3, ST102, FM2...</td>\n",
       "      <td>[ST101, MA102, LL106]</td>\n",
       "      <td>Hard</td>\n",
       "      <td>10.5</td>\n",
       "    </tr>\n",
       "    <tr>\n",
       "      <th>4</th>\n",
       "      <td>[MA108, FM100, FM102, EC1A3, EC1B3, ST102, FM2...</td>\n",
       "      <td>[ST101, AN237, LL251]</td>\n",
       "      <td>Medium</td>\n",
       "      <td>10.5</td>\n",
       "    </tr>\n",
       "    <tr>\n",
       "      <th>5</th>\n",
       "      <td>[MA108, FM100, FM102, EC1A3, EC1B3, ST102, FM2...</td>\n",
       "      <td>[ST101, DS105A, ST310, ST311]</td>\n",
       "      <td>Easy</td>\n",
       "      <td>10.5</td>\n",
       "    </tr>\n",
       "  </tbody>\n",
       "</table>\n",
       "</div>"
      ],
      "text/plain": [
       "                                             Modules  \\\n",
       "0  [MA108, FM100, FM102, EC1A3, EC1B3, ST102, FM2...   \n",
       "1  [MA108, FM100, FM102, EC1A3, EC1B3, ST102, FM2...   \n",
       "2  [MA108, FM100, FM102, EC1A3, EC1B3, ST102, FM2...   \n",
       "3  [MA108, FM100, FM102, EC1A3, EC1B3, ST102, FM2...   \n",
       "4  [MA108, FM100, FM102, EC1A3, EC1B3, ST102, FM2...   \n",
       "5  [MA108, FM100, FM102, EC1A3, EC1B3, ST102, FM2...   \n",
       "\n",
       "          Optional Modules Added Difficulty  Total Units  \n",
       "0   [AC102, MA102, AC332, EC339]       Hard         10.5  \n",
       "1          [AC102, AC342, LL251]     Medium         10.5  \n",
       "2         [AC102, DS105A, EH209]       Easy         10.5  \n",
       "3          [ST101, MA102, LL106]       Hard         10.5  \n",
       "4          [ST101, AN237, LL251]     Medium         10.5  \n",
       "5  [ST101, DS105A, ST310, ST311]       Easy         10.5  "
      ]
     },
     "execution_count": 28,
     "metadata": {},
     "output_type": "execute_result"
    }
   ],
   "source": [
    "difficulty_dffi = pd.DataFrame([\n",
    "    {'Difficulty': 'Hard','Optional Modules Added': ['AC102'],'OO_added': ['MA102', 'AC332', 'EC339']},\n",
    "    {'Difficulty': 'Medium', 'Optional Modules Added': ['AC102'], 'OO_added': [ 'AC342', 'LL251']}, \n",
    "    {'Difficulty': 'Easy',   'Optional Modules Added': ['AC102'], 'OO_added': ['DS105A', 'EH209']},\n",
    "    {'Difficulty': 'Hard', 'Optional Modules Added': ['ST101'],'OO_added':[ 'MA102', 'LL106']  }, \n",
    "    {'Difficulty': 'Medium',  'Optional Modules Added': ['ST101'],  'OO_added': ['AN237', 'LL251'] },\n",
    "    {'Difficulty': 'Easy', 'Optional Modules Added': ['ST101'], 'OO_added': ['DS105A', 'ST310', 'ST311'] }\n",
    "])\n",
    "\n",
    "finance_combos = expand_with_difficulty_variants(year_1_combos_dffi4, difficulty_dffi)\n",
    "finance_combos\n"
   ]
  },
  {
   "cell_type": "markdown",
   "id": "c32321c0",
   "metadata": {},
   "source": [
    "**4.41.8 Calculating Statistics for the Modules Chosen**\n",
    "\n"
   ]
  },
  {
   "cell_type": "code",
   "execution_count": 29,
   "id": "afe09e07",
   "metadata": {},
   "outputs": [
    {
     "data": {
      "text/html": [
       "<div>\n",
       "<style scoped>\n",
       "    .dataframe tbody tr th:only-of-type {\n",
       "        vertical-align: middle;\n",
       "    }\n",
       "\n",
       "    .dataframe tbody tr th {\n",
       "        vertical-align: top;\n",
       "    }\n",
       "\n",
       "    .dataframe thead th {\n",
       "        text-align: right;\n",
       "    }\n",
       "</style>\n",
       "<table border=\"1\" class=\"dataframe\">\n",
       "  <thead>\n",
       "    <tr style=\"text-align: right;\">\n",
       "      <th></th>\n",
       "      <th>Modules</th>\n",
       "      <th>Difficulty</th>\n",
       "      <th>Mean</th>\n",
       "      <th>Median</th>\n",
       "      <th>Q10</th>\n",
       "      <th>Q90</th>\n",
       "      <th>Pooled_SD</th>\n",
       "      <th>degree</th>\n",
       "    </tr>\n",
       "  </thead>\n",
       "  <tbody>\n",
       "    <tr>\n",
       "      <th>0</th>\n",
       "      <td>[MA108, FM100, FM102, EC1A3, EC1B3, ST102, FM2...</td>\n",
       "      <td>Hard</td>\n",
       "      <td>62.801920</td>\n",
       "      <td>64.028030</td>\n",
       "      <td>47.036894</td>\n",
       "      <td>78.390379</td>\n",
       "      <td>13.409812</td>\n",
       "      <td>BSc Finance</td>\n",
       "    </tr>\n",
       "    <tr>\n",
       "      <th>1</th>\n",
       "      <td>[MA108, FM100, FM102, EC1A3, EC1B3, ST102, FM2...</td>\n",
       "      <td>Medium</td>\n",
       "      <td>64.025480</td>\n",
       "      <td>65.062121</td>\n",
       "      <td>49.620303</td>\n",
       "      <td>78.314697</td>\n",
       "      <td>12.186466</td>\n",
       "      <td>BSc Finance</td>\n",
       "    </tr>\n",
       "    <tr>\n",
       "      <th>2</th>\n",
       "      <td>[MA108, FM100, FM102, EC1A3, EC1B3, ST102, FM2...</td>\n",
       "      <td>Easy</td>\n",
       "      <td>64.854011</td>\n",
       "      <td>65.846212</td>\n",
       "      <td>50.169848</td>\n",
       "      <td>79.218788</td>\n",
       "      <td>12.526142</td>\n",
       "      <td>BSc Finance</td>\n",
       "    </tr>\n",
       "    <tr>\n",
       "      <th>3</th>\n",
       "      <td>[MA108, FM100, FM102, EC1A3, EC1B3, ST102, FM2...</td>\n",
       "      <td>Hard</td>\n",
       "      <td>62.659597</td>\n",
       "      <td>63.715530</td>\n",
       "      <td>47.388030</td>\n",
       "      <td>77.501515</td>\n",
       "      <td>13.051809</td>\n",
       "      <td>BSc Finance</td>\n",
       "    </tr>\n",
       "    <tr>\n",
       "      <th>4</th>\n",
       "      <td>[MA108, FM100, FM102, EC1A3, EC1B3, ST102, FM2...</td>\n",
       "      <td>Medium</td>\n",
       "      <td>63.841241</td>\n",
       "      <td>64.807576</td>\n",
       "      <td>49.377576</td>\n",
       "      <td>78.036742</td>\n",
       "      <td>12.394622</td>\n",
       "      <td>BSc Finance</td>\n",
       "    </tr>\n",
       "    <tr>\n",
       "      <th>5</th>\n",
       "      <td>[MA108, FM100, FM102, EC1A3, EC1B3, ST102, FM2...</td>\n",
       "      <td>Easy</td>\n",
       "      <td>64.856697</td>\n",
       "      <td>65.919697</td>\n",
       "      <td>50.004167</td>\n",
       "      <td>79.427652</td>\n",
       "      <td>12.831765</td>\n",
       "      <td>BSc Finance</td>\n",
       "    </tr>\n",
       "  </tbody>\n",
       "</table>\n",
       "</div>"
      ],
      "text/plain": [
       "                                             Modules Difficulty       Mean  \\\n",
       "0  [MA108, FM100, FM102, EC1A3, EC1B3, ST102, FM2...       Hard  62.801920   \n",
       "1  [MA108, FM100, FM102, EC1A3, EC1B3, ST102, FM2...     Medium  64.025480   \n",
       "2  [MA108, FM100, FM102, EC1A3, EC1B3, ST102, FM2...       Easy  64.854011   \n",
       "3  [MA108, FM100, FM102, EC1A3, EC1B3, ST102, FM2...       Hard  62.659597   \n",
       "4  [MA108, FM100, FM102, EC1A3, EC1B3, ST102, FM2...     Medium  63.841241   \n",
       "5  [MA108, FM100, FM102, EC1A3, EC1B3, ST102, FM2...       Easy  64.856697   \n",
       "\n",
       "      Median        Q10        Q90  Pooled_SD       degree  \n",
       "0  64.028030  47.036894  78.390379  13.409812  BSc Finance  \n",
       "1  65.062121  49.620303  78.314697  12.186466  BSc Finance  \n",
       "2  65.846212  50.169848  79.218788  12.526142  BSc Finance  \n",
       "3  63.715530  47.388030  77.501515  13.051809  BSc Finance  \n",
       "4  64.807576  49.377576  78.036742  12.394622  BSc Finance  \n",
       "5  65.919697  50.004167  79.427652  12.831765  BSc Finance  "
      ]
     },
     "execution_count": 29,
     "metadata": {},
     "output_type": "execute_result"
    }
   ],
   "source": [
    "finance_combos[['Mean', 'Q10', 'Median', 'Q90', 'Pooled_SD']] = finance_combos['Modules'].apply(\n",
    "    lambda x: pd.Series(calculate_statistics_for_modules(x, summary_df))\n",
    ")\n",
    "finance_combos[\"degree\"] = \"BSc Finance\"\n",
    "finance_combos[[\"Modules\",\"Difficulty\",\"Mean\",\"Median\",\"Q10\",\"Q90\",\"Pooled_SD\",\"degree\"]]\n"
   ]
  },
  {
   "cell_type": "markdown",
   "id": "8e36c165",
   "metadata": {},
   "source": [
    "**4.41.9 The Finance Table**\n",
    "\n",
    "* We ended up with this table which lists the modules, and the means based on the difficulty the student can choose. If any of the modules do not have any data points, then as they are treated as NaN modules the mean calculation skips them over. "
   ]
  },
  {
   "cell_type": "markdown",
   "id": "2399a8d3",
   "metadata": {},
   "source": [
    "There are a few interesting obsevrations that can be made here:\n",
    "\n",
    "* The easiest possible combination for Finance is very similar to the recommended modules that the department suggests to their students.\n",
    "* It does not appear that there is much of a difference between hard and easy degree designs. We suspect this is because there is very little choice a student can make and hence even if there is a big difference in easy and hard modules it takes up a small % of the overall degree\n",
    "* We conduct further analysis in the analysis section\n",
    "\n",
    "Finally, our hypothesis appears to be correct"
   ]
  },
  {
   "cell_type": "markdown",
   "id": "899ddc94",
   "metadata": {},
   "source": [
    "### 4.42 Economics"
   ]
  },
  {
   "cell_type": "markdown",
   "id": "8790d10e",
   "metadata": {},
   "source": [
    "**4.42.1 Hypothesis** \n",
    "We now analyse Economics, using a lot of the logic we defined above, and a few new functions which fit into the course structure that Economics has. Economics has a high graduation salary, a median amount of optionality and a low acceptance rate. Our hypothesis is that is quite unclear what the difference between easy and hard will be"
   ]
  },
  {
   "cell_type": "code",
   "execution_count": 30,
   "id": "c7f023ee",
   "metadata": {},
   "outputs": [],
   "source": [
    "econ_options = pd.read_csv(\"data/degrees/econm.csv\")"
   ]
  },
  {
   "cell_type": "code",
   "execution_count": 31,
   "id": "41a037db",
   "metadata": {},
   "outputs": [],
   "source": [
    "initial_combinations_df3 = summarize_compulsory_modules(econ_options)"
   ]
  },
  {
   "cell_type": "code",
   "execution_count": 32,
   "id": "bcb31837",
   "metadata": {},
   "outputs": [],
   "source": [
    "year1_combos_df = generate_year1_optional_combinations(initial_combinations_df3, econ_options)"
   ]
  },
  {
   "cell_type": "code",
   "execution_count": 33,
   "id": "818bfee8",
   "metadata": {},
   "outputs": [],
   "source": [
    "year_1_combos_df2 = create_difficulty_subrows(year1_combos_df)\n",
    "year_1_combos_df3=year_1_combos_df2.copy()"
   ]
  },
  {
   "cell_type": "markdown",
   "id": "58b8e112",
   "metadata": {},
   "source": [
    "**4.42.2**\n",
    "* Economics has an outside options choice in its 1st year. This list is difference to the other outside options list so we pick a module from there for the different designs of the degree.We used the print sorted mean to discover the 1st year outside options."
   ]
  },
  {
   "cell_type": "code",
   "execution_count": 34,
   "id": "42509162",
   "metadata": {},
   "outputs": [],
   "source": [
    "#print_sorted_by_mean(outside_options_1st_year,num=5)basing"
   ]
  },
  {
   "cell_type": "code",
   "execution_count": 35,
   "id": "7d7088b1",
   "metadata": {},
   "outputs": [],
   "source": [
    "difficulty_df = pd.DataFrame([\n",
    "    {'Difficulty': 'Hard','Optional Modules Added': ['MA100'],'OO_added': ['MA102',\"ST101A\"]}, \n",
    "    {'Difficulty': 'Medium', 'Optional Modules Added': ['MA100'], 'OO_added': ['PH103']}, \n",
    "    {'Difficulty': 'Easy', 'Optional Modules Added': ['MA100'],'OO_added': ['DS105A', 'AC102'] }, \n",
    "    {'Difficulty': 'Hard', 'Optional Modules Added': ['MA108', 'EC1B1'],'OO_added': ['MA102',\"ST101A\"] },\n",
    "    {'Difficulty': 'Medium',  'Optional Modules Added': ['MA108', 'EC1B1'],'OO_added': ['PH103'] },\n",
    "    {'Difficulty': 'Easy', 'Optional Modules Added': ['MA108', 'EC1B1'], 'OO_added': ['DS105A', 'AC102'] }\n",
    "])"
   ]
  },
  {
   "cell_type": "code",
   "execution_count": 36,
   "id": "c70eb708",
   "metadata": {},
   "outputs": [],
   "source": [
    "year_1incOO_df = expand_with_difficulty_variants(year_1_combos_df3, difficulty_df)"
   ]
  },
  {
   "cell_type": "markdown",
   "id": "fc0a710b",
   "metadata": {},
   "source": [
    "**4.42.2 Completing Optional Course Info**\n",
    "* we now create code which adds to the options in the course options dataframe, including a lot of the information around means. We then create a table which only looks at the 3rd Year optional courses in Economics (that aren't OO) or courses that dont have any data"
   ]
  },
  {
   "cell_type": "code",
   "execution_count": 37,
   "id": "01d1c5d2",
   "metadata": {},
   "outputs": [
    {
     "data": {
      "text/html": [
       "<div>\n",
       "<style scoped>\n",
       "    .dataframe tbody tr th:only-of-type {\n",
       "        vertical-align: middle;\n",
       "    }\n",
       "\n",
       "    .dataframe tbody tr th {\n",
       "        vertical-align: top;\n",
       "    }\n",
       "\n",
       "    .dataframe thead th {\n",
       "        text-align: right;\n",
       "    }\n",
       "</style>\n",
       "<table border=\"1\" class=\"dataframe\">\n",
       "  <thead>\n",
       "    <tr style=\"text-align: right;\">\n",
       "      <th></th>\n",
       "      <th>Module</th>\n",
       "      <th>Year</th>\n",
       "      <th>Optional/Compulsory</th>\n",
       "      <th>Units</th>\n",
       "      <th>code_x</th>\n",
       "      <th>mean</th>\n",
       "      <th>q10</th>\n",
       "      <th>Median</th>\n",
       "      <th>q90</th>\n",
       "      <th>Pooled_SD</th>\n",
       "      <th>Department</th>\n",
       "      <th>units</th>\n",
       "      <th>code_y</th>\n",
       "      <th>prerequisites</th>\n",
       "      <th>mutually_exclusive_courses</th>\n",
       "    </tr>\n",
       "  </thead>\n",
       "  <tbody>\n",
       "    <tr>\n",
       "      <th>26</th>\n",
       "      <td>EC336</td>\n",
       "      <td>3</td>\n",
       "      <td>1</td>\n",
       "      <td>0.5</td>\n",
       "      <td>EC336</td>\n",
       "      <td>81.200000</td>\n",
       "      <td>71.50</td>\n",
       "      <td>82.5</td>\n",
       "      <td>89.50</td>\n",
       "      <td>8.300000</td>\n",
       "      <td>Economics</td>\n",
       "      <td>0.5</td>\n",
       "      <td>EC336</td>\n",
       "      <td>['ST102', 'MA100', 'ST109']</td>\n",
       "      <td>[]</td>\n",
       "    </tr>\n",
       "    <tr>\n",
       "      <th>28</th>\n",
       "      <td>EC338</td>\n",
       "      <td>3</td>\n",
       "      <td>1</td>\n",
       "      <td>0.5</td>\n",
       "      <td>EC338</td>\n",
       "      <td>75.300000</td>\n",
       "      <td>51.20</td>\n",
       "      <td>80.0</td>\n",
       "      <td>91.00</td>\n",
       "      <td>18.600000</td>\n",
       "      <td>Economics</td>\n",
       "      <td>0.5</td>\n",
       "      <td>EC338</td>\n",
       "      <td>['EC201', 'EC202']</td>\n",
       "      <td>[]</td>\n",
       "    </tr>\n",
       "    <tr>\n",
       "      <th>24</th>\n",
       "      <td>EC334</td>\n",
       "      <td>3</td>\n",
       "      <td>1</td>\n",
       "      <td>0.5</td>\n",
       "      <td>EC334</td>\n",
       "      <td>70.300000</td>\n",
       "      <td>59.80</td>\n",
       "      <td>69.0</td>\n",
       "      <td>80.20</td>\n",
       "      <td>8.200000</td>\n",
       "      <td>Economics</td>\n",
       "      <td>0.5</td>\n",
       "      <td>EC334</td>\n",
       "      <td>['FM201', 'MA107', 'EC221', 'EC220', 'MA100', ...</td>\n",
       "      <td>[]</td>\n",
       "    </tr>\n",
       "    <tr>\n",
       "      <th>13</th>\n",
       "      <td>EC307</td>\n",
       "      <td>3</td>\n",
       "      <td>1</td>\n",
       "      <td>1.0</td>\n",
       "      <td>EC307</td>\n",
       "      <td>69.420201</td>\n",
       "      <td>61.58</td>\n",
       "      <td>70.4</td>\n",
       "      <td>78.60</td>\n",
       "      <td>7.888646</td>\n",
       "      <td>Economics</td>\n",
       "      <td>1.0</td>\n",
       "      <td>EC307</td>\n",
       "      <td>['ST109', 'MA107', 'EC221', 'ST102', 'EC220', ...</td>\n",
       "      <td>[]</td>\n",
       "    </tr>\n",
       "    <tr>\n",
       "      <th>36</th>\n",
       "      <td>PH311</td>\n",
       "      <td>3</td>\n",
       "      <td>1</td>\n",
       "      <td>1.0</td>\n",
       "      <td>PH311</td>\n",
       "      <td>69.136341</td>\n",
       "      <td>61.96</td>\n",
       "      <td>69.4</td>\n",
       "      <td>74.68</td>\n",
       "      <td>7.903559</td>\n",
       "      <td>Method</td>\n",
       "      <td>1.0</td>\n",
       "      <td>PH311</td>\n",
       "      <td>[]</td>\n",
       "      <td>[]</td>\n",
       "    </tr>\n",
       "  </tbody>\n",
       "</table>\n",
       "</div>"
      ],
      "text/plain": [
       "   Module  Year  Optional/Compulsory  Units code_x       mean    q10  Median  \\\n",
       "26  EC336     3                    1    0.5  EC336  81.200000  71.50    82.5   \n",
       "28  EC338     3                    1    0.5  EC338  75.300000  51.20    80.0   \n",
       "24  EC334     3                    1    0.5  EC334  70.300000  59.80    69.0   \n",
       "13  EC307     3                    1    1.0  EC307  69.420201  61.58    70.4   \n",
       "36  PH311     3                    1    1.0  PH311  69.136341  61.96    69.4   \n",
       "\n",
       "      q90  Pooled_SD Department  units code_y  \\\n",
       "26  89.50   8.300000  Economics    0.5  EC336   \n",
       "28  91.00  18.600000  Economics    0.5  EC338   \n",
       "24  80.20   8.200000  Economics    0.5  EC334   \n",
       "13  78.60   7.888646  Economics    1.0  EC307   \n",
       "36  74.68   7.903559     Method    1.0  PH311   \n",
       "\n",
       "                                        prerequisites  \\\n",
       "26                        ['ST102', 'MA100', 'ST109']   \n",
       "28                                 ['EC201', 'EC202']   \n",
       "24  ['FM201', 'MA107', 'EC221', 'EC220', 'MA100', ...   \n",
       "13  ['ST109', 'MA107', 'EC221', 'ST102', 'EC220', ...   \n",
       "36                                                 []   \n",
       "\n",
       "   mutually_exclusive_courses  \n",
       "26                         []  \n",
       "28                         []  \n",
       "24                         []  \n",
       "13                         []  \n",
       "36                         []  "
      ]
     },
     "execution_count": 37,
     "metadata": {},
     "output_type": "execute_result"
    }
   ],
   "source": [
    "def add_summary_and_prereqs(econ_options, summary_df, outside_options_marks):\n",
    "    merged_df = pd.merge(econ_options, summary_df, left_on='Module', right_on='code', how='left')\n",
    "    merged_with_outside = pd.merge(merged_df, outside_options_marks[['code', 'prerequisites', 'mutually_exclusive_courses']],\n",
    "                                   left_on='Module', right_on='code', how='left')\n",
    "\n",
    "    if 'code' in merged_with_outside.columns:\n",
    "        merged_with_outside = merged_with_outside.drop(columns=['code'])\n",
    "    \n",
    "    return merged_with_outside\n",
    "\n",
    "merged_df_e = add_summary_and_prereqs(econ_options, summary_df,outside_options_marks)\n",
    "\n",
    "merged_df_e3= merged_df_e[merged_df_e['Year'] == 3]\n",
    "merged_df_e3 = merged_df_e3.sort_values(by='mean', ascending=False)\n",
    "merged_df_e3 = merged_df_e3.dropna(subset=['mean'])\n",
    "merged_df_e3 = merged_df_e3[~merged_df_e3['Module'].isin(['FM322', 'FM321'])]\n",
    "merged_df_e3.head()"
   ]
  },
  {
   "cell_type": "code",
   "execution_count": 38,
   "id": "44efd25d",
   "metadata": {},
   "outputs": [],
   "source": [
    "def find_mean_of_means_combinations(df, target_units=4.0, code_col='Module', mean_col='mean', unit_col='Units'):\n",
    "    valid_combos = [\n",
    "        (\", \".join(getattr(c, code_col) for c in combo), np.mean([getattr(c, mean_col) for c in combo]))\n",
    "        for r in range(1, len(df) + 1)\n",
    "        for combo in itertools.combinations(df.itertuples(index=False), r)\n",
    "        if np.isclose(sum(getattr(c, unit_col) for c in combo), target_units)\n",
    "    ]\n",
    "\n",
    "    sorted_combos = sorted(valid_combos, key=lambda x: x[1])\n",
    "    mid_index = len(sorted_combos) // 2\n",
    "\n",
    "    \n",
    "    print(\"Lowest Mean of Means Combo:\", sorted_combos[0])\n",
    "    print(\"Median Mean of Means Combo:\", sorted_combos[mid_index])\n",
    "    print(\" Highest Mean of Means Combo:\", sorted_combos[-1])\n"
   ]
  },
  {
   "cell_type": "markdown",
   "id": "e2c4c2a4",
   "metadata": {},
   "source": [
    "**4.42.3 Optional Courses Combinations**"
   ]
  },
  {
   "cell_type": "code",
   "execution_count": 39,
   "id": "a3e50795",
   "metadata": {},
   "outputs": [
    {
     "name": "stdout",
     "output_type": "stream",
     "text": [
      "Lowest Mean of Means Combo: ('EC302, EC310, EC337, EC319, EC335', 61.36188861669116)\n",
      "Median Mean of Means Combo: ('EC338, EC313, EC321, EC311, EC339', 66.7704531590414)\n",
      " Highest Mean of Means Combo: ('EC336, EC338, EC307, PH311, EC330', 72.61130832099067)\n"
     ]
    }
   ],
   "source": [
    "find_mean_of_means_combinations(merged_df_e3, target_units=4.0)"
   ]
  },
  {
   "cell_type": "code",
   "execution_count": 40,
   "id": "72be6ef9",
   "metadata": {},
   "outputs": [
    {
     "ename": "NameError",
     "evalue": "name 'append_dict' is not defined",
     "output_type": "error",
     "traceback": [
      "\u001b[1;31m---------------------------------------------------------------------------\u001b[0m",
      "\u001b[1;31mNameError\u001b[0m                                 Traceback (most recent call last)",
      "Cell \u001b[1;32mIn[40], line 12\u001b[0m\n\u001b[0;32m     10\u001b[0m \u001b[38;5;66;03m## Finish this off and then apply it\u001b[39;00m\n\u001b[0;32m     11\u001b[0m year_1incOO_df2 \u001b[38;5;241m=\u001b[39m year_1incOO_df\u001b[38;5;241m.\u001b[39mcopy()\n\u001b[1;32m---> 12\u001b[0m \u001b[38;5;28;01mfor\u001b[39;00m difficulty, additions \u001b[38;5;129;01min\u001b[39;00m append_dict\u001b[38;5;241m.\u001b[39mitems():\n\u001b[0;32m     13\u001b[0m     mask \u001b[38;5;241m=\u001b[39m year_1incOO_df2[\u001b[38;5;124m'\u001b[39m\u001b[38;5;124mDifficulty\u001b[39m\u001b[38;5;124m'\u001b[39m] \u001b[38;5;241m==\u001b[39m difficulty\n\u001b[0;32m     15\u001b[0m     year_1incOO_df2\u001b[38;5;241m.\u001b[39mloc[mask, \u001b[38;5;124m'\u001b[39m\u001b[38;5;124mModules\u001b[39m\u001b[38;5;124m'\u001b[39m] \u001b[38;5;241m=\u001b[39m year_1incOO_df2\u001b[38;5;241m.\u001b[39mloc[mask, \u001b[38;5;124m'\u001b[39m\u001b[38;5;124mModules\u001b[39m\u001b[38;5;124m'\u001b[39m]\u001b[38;5;241m.\u001b[39mapply(\n\u001b[0;32m     16\u001b[0m         \u001b[38;5;28;01mlambda\u001b[39;00m x: x \u001b[38;5;241m+\u001b[39m [mod \u001b[38;5;28;01mfor\u001b[39;00m mod \u001b[38;5;129;01min\u001b[39;00m additions \u001b[38;5;28;01mif\u001b[39;00m mod \u001b[38;5;129;01mnot\u001b[39;00m \u001b[38;5;129;01min\u001b[39;00m x]\n\u001b[0;32m     17\u001b[0m     )\n",
      "\u001b[1;31mNameError\u001b[0m: name 'append_dict' is not defined"
     ]
    }
   ],
   "source": [
    "difficulty_df2 = pd.DataFrame([\n",
    "    {'Difficulty': 'Hard','Optional Modules Added': ['MA100','MA102',\"ST101A\"],'OO_added': ['EC302', 'EC310','EC337','EC319','EC335','MA212']}, \n",
    "    {'Difficulty': 'Medium', 'Optional Modules Added': ['MA100','PH103'], 'OO_added': ['PH103']}, \n",
    "    {'Difficulty': 'Easy', 'Optional Modules Added': ['MA100','DS105A', 'AC102'],'OO_added': ['DS105A', 'AC102'] }, \n",
    "    {'Difficulty': 'Hard', 'Optional Modules Added': ['MA108', 'EC1B1','MA102',\"ST101A\"],'OO_added': ['MA102',\"ST101A\"] },\n",
    "    {'Difficulty': 'Medium',  'Optional Modules Added': ['MA108', 'EC1B1','PH103'],'OO_added': ['PH103'] },\n",
    "    {'Difficulty': 'Easy', 'Optional Modules Added': ['MA108', 'EC1B1','AC102'], 'OO_added': ['DS105A', 'AC102'] }\n",
    "])\n",
    "\n",
    "## Finish this off and then apply it\n",
    "year_1incOO_df2 = year_1incOO_df.copy()\n",
    "for difficulty, additions in append_dict.items():\n",
    "    mask = year_1incOO_df2['Difficulty'] == difficulty\n",
    "    \n",
    "    year_1incOO_df2.loc[mask, 'Modules'] = year_1incOO_df2.loc[mask, 'Modules'].apply(\n",
    "        lambda x: x + [mod for mod in additions if mod not in x]\n",
    "    )\n",
    "    year_1incOO_df2.loc[mask, 'Optional Modules Added'] = year_1incOO_df2.loc[mask, 'Optional Modules Added'].apply(\n",
    "        lambda x: x + [mod for mod in additions if mod not in x]\n",
    "    )\n",
    "### try change this one"
   ]
  },
  {
   "cell_type": "code",
   "execution_count": null,
   "id": "63f7826e",
   "metadata": {},
   "outputs": [],
   "source": [
    "year_1incOO_df2[['Mean', 'Q10', 'Median', 'Q90', 'Pooled_SD']] = year_1incOO_df2['Modules'].apply(\n",
    "    lambda x: pd.Series(\n",
    "        calculate_statistics_for_modules(x, summary_df)\n",
    "        if calculate_statistics_for_modules(x, summary_df) is not None\n",
    "        else [np.nan, np.nan, np.nan, np.nan, np.nan],\n",
    "        index=['Mean', 'Q10', 'Median', 'Q90', 'Pooled_SD']\n",
    "    )\n",
    ")\n",
    "year_1incOO_df2[\"degree\"] = \"BSc Economics\"\n",
    "year_1incOO_df2[[\"Optional Modules Added\",\"Difficulty\",\"Mean\",\"Median\",\"Q10\",\"Q90\",\"Pooled_SD\",\"degree\"]]\n"
   ]
  },
  {
   "cell_type": "markdown",
   "id": "f23ea0ec",
   "metadata": {},
   "source": []
  },
  {
   "cell_type": "markdown",
   "id": "0c98bb0d",
   "metadata": {},
   "source": [
    "**4.42.4 Final Table** \n",
    "* On quick inspection there is a much wider difference between easy and hard module here. Potentially because there is a lot more choice. Our hypothesis doesn't really hold here. We suspect this is because there is a lot of hard and easy economics modules. "
   ]
  },
  {
   "cell_type": "markdown",
   "id": "c8413196",
   "metadata": {},
   "source": [
    "### 4.43 International Relations"
   ]
  },
  {
   "cell_type": "markdown",
   "id": "67388ad4",
   "metadata": {},
   "source": [
    "**4.43.1 Hypothesis**\n",
    "* International Relations is a degree with a lot of choice, and no outside options and hence we thought it is an interesting degree to analyse. We predict a large range here"
   ]
  },
  {
   "cell_type": "code",
   "execution_count": null,
   "id": "0eeae111",
   "metadata": {},
   "outputs": [],
   "source": [
    "ir_options = pd.read_csv(\"data/degrees/irm.csv\")\n"
   ]
  },
  {
   "cell_type": "code",
   "execution_count": null,
   "id": "d055b36a",
   "metadata": {},
   "outputs": [],
   "source": [
    "initial_combinations_dfir = summarize_compulsory_modules(ir_options)\n"
   ]
  },
  {
   "cell_type": "code",
   "execution_count": null,
   "id": "f3259e5a",
   "metadata": {},
   "outputs": [],
   "source": [
    "year1_combos_dfir = generate_year1_optional_combinations(initial_combinations_dfir, ir_options)\n",
    "                                                              \n",
    "                                                                                                                                                         "
   ]
  },
  {
   "cell_type": "markdown",
   "id": "c21d84f3",
   "metadata": {},
   "source": [
    "**4.43.2** \n",
    "* We manualy remove all the mutually exclusive combinations of 1st year options in IR"
   ]
  },
  {
   "cell_type": "code",
   "execution_count": null,
   "id": "f538a725",
   "metadata": {},
   "outputs": [],
   "source": [
    "year1_combos_dfirf = year1_combos_dfir[year1_combos_dfir['Optional Modules Added'].isin([[ 'HY113', 'HY116' ], [ 'HY113', 'EH101' ],\n",
    "[ 'HY113', 'GV101' ],[ 'HY113', 'PH103' ],[ 'HY113', 'SO100' ],[ 'HY116', 'EH101' ],[ 'HY116', 'GV101' ],[ 'HY113', 'PH103' ],\n",
    "['HY113', 'SO10O' ]])]\n",
    "   "
   ]
  },
  {
   "cell_type": "code",
   "execution_count": null,
   "id": "cc99f6cd",
   "metadata": {},
   "outputs": [],
   "source": [
    "merged_df_ir = add_summary_and_prereqs(ir_options, summary_df,outside_options_marks)\n",
    "\n",
    "merged_df_ir3= merged_df_ir[merged_df_ir['Year'] == 3]\n",
    "merged_df_ir3 = merged_df_ir3.sort_values(by='mean', ascending=False)\n",
    "merged_df_ir3 = merged_df_ir3.dropna(subset=['mean'])\n",
    "merged_df_ir3 = merged_df_ir3.dropna(subset=['mean'])\n",
    "merged_df_ir3 = merged_df_ir3[~merged_df_ir3['Module'].isin(['LL342'])]\n",
    "\n",
    "merged_df_ir2= merged_df_ir[merged_df_ir['Year'] == 2]\n",
    "merged_df_ir2 = merged_df_ir2.sort_values(by='mean', ascending=False)\n",
    "merged_df_ir2 = merged_df_ir2.dropna(subset=['mean'])\n",
    "\n",
    "result_ir2 = find_mean_of_means_combinations(merged_df_ir2, target_units=4.0)\n",
    "result_ir3 = find_mean_of_means_combinations(merged_df_ir3, target_units=3.0)\n"
   ]
  },
  {
   "cell_type": "code",
   "execution_count": null,
   "id": "cfda0f51",
   "metadata": {},
   "outputs": [],
   "source": [
    "append_dict_ir3 = {\n",
    "    'Hard': ['IR315','IR380','IR317','IR379','IR368'],\n",
    "    'Medium': ['IR373','IR395','IR398','IR317','IR379'],\n",
    "    'Easy': ['IR377' ,'IR373','IR391','IR323','IR398']\n",
    "}\n",
    "\n",
    "append_dict_ir2 = {\n",
    "    'Hard': ['IR206','IR203','IR205','IR202'],\n",
    "    'Medium': ['IR200','IR206','IR205','IR202'],\n",
    "    'Easy': ['IR200','IR206','IR203','IR205']\n",
    "}\n",
    "\n",
    "year1_combos_dfirf2 = year1_combos_dfirf .copy()\n",
    "\n",
    "year1_combos_dfirf2 = create_difficulty_subrows(year1_combos_dfirf2)\n",
    "\n",
    "for difficulty, additions in append_dict_ir2.items():\n",
    "    mask = year1_combos_dfirf2['Difficulty'] == difficulty\n",
    "    \n",
    "    year1_combos_dfirf2.loc[mask, 'Modules'] = year1_combos_dfirf2.loc[mask, 'Modules'].apply(\n",
    "        lambda x: x + [mod for mod in additions if mod not in x]\n",
    "    )\n",
    "    year1_combos_dfirf2.loc[mask, 'Optional Modules Added'] = year1_combos_dfirf2.loc[mask, 'Optional Modules Added'].apply(\n",
    "        lambda x: x + [mod for mod in additions if mod not in x]\n",
    "    )\n",
    "for difficulty, additions in append_dict_ir3.items():\n",
    "    mask = year1_combos_dfirf2['Difficulty'] == difficulty\n",
    "    \n",
    "    year1_combos_dfirf2.loc[mask, 'Modules'] = year1_combos_dfirf2.loc[mask, 'Modules'].apply(\n",
    "        lambda x: x + [mod for mod in additions if mod not in x]\n",
    "    )\n",
    "    year1_combos_dfirf2.loc[mask, 'Optional Modules Added'] = year1_combos_dfirf2.loc[mask, 'Optional Modules Added'].apply(\n",
    "        lambda x: x + [mod for mod in additions if mod not in x]\n",
    "    )\n",
    "\n",
    "### sort this one"
   ]
  },
  {
   "cell_type": "code",
   "execution_count": null,
   "id": "92c7f6d9",
   "metadata": {},
   "outputs": [],
   "source": [
    "year1_combos_dfirf2[['Mean', 'Q10', 'Median', 'Q90', 'Pooled_SD']] = year1_combos_dfirf2['Modules'].apply(\n",
    "    lambda x: pd.Series(\n",
    "        calculate_statistics_for_modules(x, summary_df)\n",
    "        if calculate_statistics_for_modules(x, summary_df) is not None\n",
    "        else [np.nan, np.nan, np.nan, np.nan, np.nan],\n",
    "        index=['Mean', 'Q10', 'Median', 'Q90', 'Pooled_SD']\n",
    "    )\n",
    ")\n",
    "year1_combos_dfirf2[\"degree\"] = \"BSc International Relations\"\n",
    "year1_combos_dfirf2[[\"Optional Modules Added\",\"Difficulty\",\"Mean\",\"Median\",\"Q10\",\"Q90\",\"Pooled_SD\",\"degree\"]].head()"
   ]
  },
  {
   "cell_type": "markdown",
   "id": "9461ca63",
   "metadata": {},
   "source": [
    "**4.43.3 Final Table**\n",
    "* Loads of options, but not much of a difference! We suspect this is because even though there is a lot of choice in terms of the absolute number, the degree is choosing from fixed lists which are not much longer than the number of units required"
   ]
  },
  {
   "cell_type": "markdown",
   "id": "ae5da972",
   "metadata": {},
   "source": [
    "### Politics and Economics"
   ]
  },
  {
   "cell_type": "markdown",
   "id": "4d2994b6",
   "metadata": {},
   "source": [
    "**4.44.1 Hypothesis**\n",
    "* Particularly after what we found above, we looked for the degree which has the most outside options (there were a lot of ties), so we chose Politics and Economics because it is a dual degree and hence theoretically has access to quite a few different option types. We hypothesise a wide range"
   ]
  },
  {
   "cell_type": "code",
   "execution_count": null,
   "id": "e9074f10",
   "metadata": {},
   "outputs": [],
   "source": [
    "pe_options = pd.read_csv(\"data/degrees/pem.csv\")\n"
   ]
  },
  {
   "cell_type": "code",
   "execution_count": null,
   "id": "fa400bb5",
   "metadata": {},
   "outputs": [],
   "source": [
    "initial_combinations_dfpe = summarize_compulsory_modules(pe_options)\n",
    "initial_combinations_dfpe"
   ]
  },
  {
   "cell_type": "code",
   "execution_count": null,
   "id": "b162b655",
   "metadata": {},
   "outputs": [],
   "source": [
    "year1_combos_dfpe = generate_year1_optional_combinations(initial_combinations_dfpe, pe_options)\n",
    "year1_combos_dfpe2 = create_difficulty_subrows(year1_combos_dfpe)\n",
    "year1_combos_dfpe2"
   ]
  },
  {
   "cell_type": "code",
   "execution_count": null,
   "id": "88968c75",
   "metadata": {},
   "outputs": [],
   "source": [
    "merged_df_pe = add_summary_and_prereqs(pe_options, summary_df,outside_options_marks)\n"
   ]
  },
  {
   "cell_type": "code",
   "execution_count": null,
   "id": "a94ee4af",
   "metadata": {},
   "outputs": [],
   "source": [
    "merged_df_pe2= merged_df_pe[merged_df_pe['Year'] == 2]\n",
    "merged_df_pe2 = merged_df_pe2.sort_values(by='mean', ascending=False)\n",
    "merged_df_pe2 = merged_df_pe2.dropna(subset=['mean'])\n",
    "merged_df_pe2 = merged_df_pe2[merged_df_pe2['Optional/Compulsory'] == 1.0]\n",
    "\n",
    "\n",
    "\n",
    "merged_df_pe3GV =merged_df_pe[merged_df_pe['Year'] == 3]\n",
    "merged_df_pe3GV = merged_df_pe3GV[merged_df_pe3GV['Optional/Compulsory'] == 1.0]\n",
    "merged_df_pe3GV = merged_df_pe3GV.sort_values(by='mean', ascending=False)\n",
    "merged_df_pe3GV = merged_df_pe3GV.dropna(subset=['mean'])\n",
    "merged_df_pe3GV = merged_df_pe3GV[merged_df_pe3GV['Module'].str.startswith('GV')]\n",
    "\n",
    "\n",
    "\n",
    "merged_df_pe3EC =merged_df_pe[merged_df_pe['Year'] == 3]\n",
    "merged_df_pe3EC = merged_df_pe3EC[merged_df_pe3EC['Optional/Compulsory'] == 1.0]\n",
    "merged_df_pe3EC = merged_df_pe3EC.sort_values(by='mean', ascending=False)\n",
    "merged_df_pe3EC = merged_df_pe3EC.dropna(subset=['mean'])\n",
    "merged_df_pe3EC = merged_df_pe3EC[merged_df_pe3EC['Module'].str.startswith('EC')]\n"
   ]
  },
  {
   "cell_type": "code",
   "execution_count": null,
   "id": "47431a77",
   "metadata": {},
   "outputs": [],
   "source": [
    "result_pe2 = find_mean_of_means_combinations(merged_df_pe2, target_units=2.0)\n",
    "result_pe3g = find_mean_of_means_combinations(merged_df_pe3GV, target_units= 1.0)\n",
    "result_pe3e = find_mean_of_means_combinations(merged_df_pe3EC, target_units=1.0)"
   ]
  },
  {
   "cell_type": "code",
   "execution_count": null,
   "id": "6d9ab676",
   "metadata": {},
   "outputs": [],
   "source": [
    "append_dict_pe2 = {\n",
    "    'Hard': ['GV248','GV262','GV325','GV313','EC339','EC335','LL106','MA102','ST101A'],\n",
    "    'Medium': ['GV263','GV251','GV328','GV316','EC334','EC339','LL221','LL205'],\n",
    "    'Easy': ['GV249','GV245','GV314','EC338','EC334','DS105A','AC102','EH209']\n",
    "}\n",
    "year1_combos_dfpe3 =year1_combos_dfpe2.copy()\n",
    "year1_combos_dfpe3['Modules'] = year1_combos_dfpe3.apply(\n",
    "    lambda row: list(set(row['Compulsory Modules'] + append_dict_pe2.get(row['Difficulty'], []))),\n",
    "    axis=1\n",
    ")\n",
    "\n",
    "year1_combos_dfpe3['Optional Modules Added'] = year1_combos_dfpe3['Difficulty'].apply(\n",
    "    lambda diff: append_dict_pe2.get(diff, [])\n",
    ")"
   ]
  },
  {
   "cell_type": "code",
   "execution_count": null,
   "id": "9169a2dc",
   "metadata": {},
   "outputs": [],
   "source": [
    "year1_combos_dfpe3[['Mean', 'Q10', 'Median', 'Q90', 'Pooled_SD']] = year1_combos_dfpe3['Modules'].apply(\n",
    "    lambda x: pd.Series(\n",
    "        calculate_statistics_for_modules(x, summary_df)\n",
    "        if calculate_statistics_for_modules(x, summary_df) is not None\n",
    "        else [np.nan, np.nan, np.nan, np.nan, np.nan],\n",
    "        index=['Mean', 'Q10', 'Median', 'Q90', 'Pooled_SD']\n",
    "    )\n",
    ")\n",
    "year1_combos_dfpe3[\"degree\"] = \"BSc Politics and Economics\"\n",
    "year1_combos_dfpe3[[\"Optional Modules Added\",\"Difficulty\",\"Mean\",\"Median\",\"Q10\",\"Q90\",\"Pooled_SD\",\"degree\"]]"
   ]
  },
  {
   "cell_type": "markdown",
   "id": "28c82bf1",
   "metadata": {},
   "source": [
    "**4.44.2 Final Table**\n",
    "* There does seem to be a little bit more of a range between module choices here, but once again nothing that is realistically too significant. Our hypothesis was wrong here\n"
   ]
  },
  {
   "cell_type": "markdown",
   "id": "e94776ba",
   "metadata": {},
   "source": [
    "### 4.45 Psychological and Behavioural Sciences\n",
    "\n",
    "\n",
    "**4.45.1 Hypothesis** \n",
    "* We predict that as PBS is a course which is easy, and has compulsory modules which average out to the highest mean, then potentially the difference between high and low is enough to take the score above 70"
   ]
  },
  {
   "cell_type": "code",
   "execution_count": null,
   "id": "9ccf9c31",
   "metadata": {},
   "outputs": [],
   "source": [
    "pb_options = pd.read_csv(\"data/degrees/pbsm.csv\")\n",
    "pb_options.head()"
   ]
  },
  {
   "cell_type": "code",
   "execution_count": null,
   "id": "065e4a51",
   "metadata": {},
   "outputs": [],
   "source": [
    "initial_combinations_dfpb = summarize_compulsory_modules(pb_options)"
   ]
  },
  {
   "cell_type": "code",
   "execution_count": null,
   "id": "fe14eaff",
   "metadata": {},
   "outputs": [],
   "source": [
    "year1_combos_dfpb = generate_year1_optional_combinations(initial_combinations_dfpb, pb_options)"
   ]
  },
  {
   "cell_type": "code",
   "execution_count": null,
   "id": "a3212e8d",
   "metadata": {},
   "outputs": [],
   "source": [
    "year1_combos_dfpb2= create_difficulty_subrows(year1_combos_dfpb) "
   ]
  },
  {
   "cell_type": "code",
   "execution_count": null,
   "id": "f45e6c47",
   "metadata": {},
   "outputs": [],
   "source": [
    "merged_df_pb = add_summary_and_prereqs(pb_options, summary_df,outside_options_marks)\n",
    "merged_df_pb2= merged_df_pb[merged_df_pb['Year'] == 3]\n",
    "merged_df_pb2 = merged_df_pb2.sort_values(by='mean', ascending=False)\n",
    "merged_df_pb2 = merged_df_pb2.dropna(subset=['mean'])\n",
    "merged_df_pb2 = merged_df_pb2[merged_df_pb2['Optional/Compulsory'] == 1.0]\n",
    "result_pb2 = find_mean_of_means_combinations(merged_df_pb2, target_units=0.5)\n"
   ]
  },
  {
   "cell_type": "code",
   "execution_count": null,
   "id": "e3b485b0",
   "metadata": {},
   "outputs": [],
   "source": [
    "append_dict_pb3 = {\n",
    "    'Hard': ['AC103','EC1B3','EC1A3','PB307'],\n",
    "    'Medium': ['LL210','AN237','PB314'],\n",
    "    'Easy': ['DS105A','EH215','AC102','PB312']\n",
    "}\n",
    "\n",
    "year1_combos_dfpb3 =year1_combos_dfpb2.copy()\n",
    "year1_combos_dfpb3['Modules'] = year1_combos_dfpb3.apply(\n",
    "    lambda row: list(set(row['Modules'] + append_dict_pb3.get(row['Difficulty'], []))),\n",
    "    axis=1\n",
    ")\n",
    "\n",
    "\n",
    "year1_combos_dfpb3['Optional Modules Added'] = year1_combos_dfpb3['Difficulty'].apply(\n",
    "    lambda diff: append_dict_pb3.get(diff, [])\n",
    ")\n"
   ]
  },
  {
   "cell_type": "code",
   "execution_count": null,
   "id": "b86337a8",
   "metadata": {},
   "outputs": [],
   "source": [
    "year1_combos_dfpb3[['Mean', 'Q10', 'Median', 'Q90', 'Pooled_SD']] = year1_combos_dfpb3['Modules'].apply(\n",
    "    lambda x: pd.Series(\n",
    "        calculate_statistics_for_modules(x, summary_df)\n",
    "        if calculate_statistics_for_modules(x, summary_df) is not None\n",
    "        else [np.nan, np.nan, np.nan, np.nan, np.nan],\n",
    "        index=['Mean', 'Q10', 'Median', 'Q90', 'Pooled_SD']\n",
    "    )\n",
    ")\n",
    "year1_combos_dfpb3[\"degree\"] = \"BSc Psychological and Behavioural Science\"\n",
    "year1_combos_dfpb3[[\"Optional Modules Added\",\"Difficulty\",\"Mean\",\"Median\",\"Q10\",\"Q90\",\"Pooled_SD\",\"degree\"]].head()"
   ]
  },
  {
   "cell_type": "markdown",
   "id": "96bcbfb2",
   "metadata": {},
   "source": [
    "**4.45.2 Final Table** \n",
    "* Our hypothesis was wrong here, PBS is also a relatively uninteresting course"
   ]
  },
  {
   "cell_type": "markdown",
   "id": "2983e17c",
   "metadata": {},
   "source": [
    "### 4.5  Putting it All Together"
   ]
  },
  {
   "cell_type": "markdown",
   "id": "06617c03",
   "metadata": {},
   "source": [
    "We add all the tables together, and then select only the hardest and easiest possible combination a student can choose for each degree. "
   ]
  },
  {
   "cell_type": "code",
   "execution_count": null,
   "id": "2fd70cc2",
   "metadata": {},
   "outputs": [],
   "source": [
    "Final_Comparison = pd.concat([year1_combos_dfpb3,year1_combos_dfpe3,year1_combos_dfirf2,year_1incOO_df2,finance_combos], ignore_index=True)\n"
   ]
  },
  {
   "cell_type": "code",
   "execution_count": null,
   "id": "a84aab67",
   "metadata": {},
   "outputs": [],
   "source": [
    "Final_Comparison = Final_Comparison.loc[[0, 5, 18, 20, 42, 50,54,59,63,65]] \n",
    "Final_Comparison[[\"Difficulty\",\"Mean\",\"Median\",\"Q10\",\"Q90\",\"Pooled_SD\",\"degree\"]]"
   ]
  },
  {
   "cell_type": "markdown",
   "id": "1e2ed9f1",
   "metadata": {},
   "source": [
    "## 5) Module Analysis"
   ]
  },
  {
   "cell_type": "markdown",
   "id": "a54bb6f7",
   "metadata": {},
   "source": [
    "**5.1**\n",
    "* We first want to visualise the discrepancy for hard and easy degree desigsns for the degrees we have chosen to analyse. We put this in reference to thresholds of 70, and 65.5 which are respectively the score required for a first and the overall degree average needed to get a first if you have obtained 8 or more firsts overall"
   ]
  },
  {
   "cell_type": "code",
   "execution_count": null,
   "id": "d08e10c9",
   "metadata": {},
   "outputs": [],
   "source": [
    "degrees =Final_Comparison[\"degree\"].unique()\n",
    "easy_means = Final_Comparison[Final_Comparison[\"Difficulty\"] == 'Easy'][\"Mean\"].values\n",
    "hard_means =  Final_Comparison[Final_Comparison[\"Difficulty\"] == 'Hard'][\"Mean\"].values\n",
    "fig, ax = plt.subplots(figsize=(10, 6))\n",
    "for i, degree in enumerate(degrees):\n",
    "    ax.plot([i, i], [hard_means[i], easy_means[i]], color='black')  # Line between hard and easy\n",
    "    ax.scatter(i, easy_means[i], color='green', label='Easy' if i==0 else \"\", s=100)\n",
    "    ax.scatter(i, hard_means[i], color='red', label='Hard' if i==0 else \"\", s=100)\n",
    "ax.axhline(65.5, color='blue', linestyle='--', label='65.5 Threshold')\n",
    "ax.axhline(70.0, color='purple', linestyle='--', label='70.0 Threshold')\n",
    "ax.set_xticks(range(len(degrees)))\n",
    "ax.set_xticklabels(degrees, rotation=45, ha='right')\n",
    "ax.set_ylabel('Mean Score')\n",
    "ax.set_title('Easy vs Hard Mean Scores by Degree')\n",
    "ax.legend()\n",
    "ax.grid(True, linestyle=':', alpha=0.7)\n",
    "plt.tight_layout()\n",
    "plt.show()"
   ]
  },
  {
   "cell_type": "markdown",
   "id": "49d5887a",
   "metadata": {},
   "source": [
    "**5.2**\n",
    "* We can see here, that for every course except Finance, allows a student to surpass the 65.5 threshold which is a substantial advantage to the student. But no course takes a student above the 70% threshold. There is quite a difference in the ranges between the courses, so we will conduct further analysis to understand what creates these differences.  \n",
    "\n",
    "* Interestingly, looking at the t-values for each of the course designs, we can see tha conducting a hypothesis test comparing the means between the easy and hard design produces a t value which is below 1, for every single course. There are no degrees of freedom that produce values that low whilst still having a low signifcance level. This indicates that the difference can be purely based on statistical differences of the consitutuent modules and hence there is no likely difference. I.e a student can't really 'cheat the system'."
   ]
  },
  {
   "cell_type": "code",
   "execution_count": null,
   "id": "8ca82684",
   "metadata": {},
   "outputs": [],
   "source": []
  },
  {
   "cell_type": "code",
   "execution_count": null,
   "id": "7e3156af-94e8-4e1d-85f3-2a369db940b2",
   "metadata": {},
   "outputs": [],
   "source": [
    "programms_df_clean['total_optional_units'] "
   ]
  },
  {
   "cell_type": "code",
   "execution_count": null,
   "id": "fa977833",
   "metadata": {},
   "outputs": [],
   "source": [
    "easy_means = Final_Comparison[Final_Comparison['Difficulty'] == 'Easy'].groupby('degree')['Mean'].mean().reset_index()\n",
    "easy_means.rename(columns={'Mean': 'Easy_Mean'}, inplace=True)\n",
    "\n",
    "hard_means = Final_Comparison[Final_Comparison['Difficulty'] == 'Hard'].groupby('degree')['Mean'].mean().reset_index()\n",
    "hard_means.rename(columns={'Mean': 'Hard_Mean'}, inplace=True)\n",
    "\n",
    "range_df = pd.merge(easy_means, hard_means, on='degree')\n",
    "\n",
    "range_df['Range'] = range_df['Easy_Mean'] - range_df['Hard_Mean']\n",
    "\n",
    "range_df['Primary Department'] = ['Economics', 'Finance', 'Relations', 'Government', 'Science']\n",
    "range_df\n",
    "optional_units = programms_df_clean[[\"degree\",\"total_optional_units\",'median_salary','acceptance_perc']]\n",
    "variance_table = range_df.copy()\n",
    "var_df = pd.merge(variance_table, department_dist, left_on='Primary Department', right_on='Department', how='left')\n",
    "opt_df = pd.merge(var_df, optional_units, left_on='degree', right_on='degree', how='left')\n",
    "opt_df\n",
    "\n"
   ]
  },
  {
   "cell_type": "code",
   "execution_count": null,
   "id": "179ad051",
   "metadata": {},
   "outputs": [],
   "source": [
    "sns.set(style='whitegrid', context='notebook')\n",
    "fig, axes = plt.subplots(1, 2, figsize=(14, 6))\n",
    "axes = axes.flatten()\n",
    "sns.scatterplot(data=opt_df, x='Department_SD', y='Range', ax=axes[0], color='teal', s=100, edgecolor='black')\n",
    "x = opt_df['Department_SD']\n",
    "y = opt_df['Range']\n",
    "coeffs = np.polyfit(x, y, 1)\n",
    "x_line = np.linspace(x.min(), x.max(), 100)\n",
    "y_line = coeffs[0] * x_line + coeffs[1]\n",
    "axes[0].plot(x_line, y_line, linestyle='--', color='black')\n",
    "\n",
    "axes[0].set_title('Range vs Department SD', fontsize=14, fontweight='bold')\n",
    "axes[0].set_xlabel('Department SD', fontsize=12)\n",
    "axes[0].set_ylabel('Range', fontsize=12)\n",
    "axes[0].set_ylim(0, 7)\n",
    "axes[0].tick_params(width=2)\n",
    "for spine in axes[0].spines.values():\n",
    "    spine.set_linewidth(1.5)\n",
    "\n",
    "sns.scatterplot(data=opt_df,x='total_optional_units',y='Range',ax=axes[1],color='darkorange',s=100, edgecolor='black')\n",
    "\n",
    "x = opt_df['total_optional_units']\n",
    "y = opt_df['Range']\n",
    "coeffs = np.polyfit(x, y, 1)\n",
    "x_line = np.linspace(x.min(), x.max(), 100)\n",
    "y_line = coeffs[0] * x_line + coeffs[1]\n",
    "axes[1].plot(x_line, y_line, linestyle='--', color='black')\n",
    "\n",
    "axes[1].set_title('Range vs Total Optional Units', fontsize=14, fontweight='bold')\n",
    "axes[1].set_xlabel('Total Optional Units', fontsize=12)\n",
    "axes[1].set_ylabel('Range', fontsize=12)\n",
    "axes[1].set_ylim(0, 7)\n",
    "axes[1].tick_params(width=2)\n",
    "for spine in axes[1].spines.values():\n",
    "    spine.set_linewidth(1.5)\n",
    "\n",
    "plt.tight_layout()\n",
    "plt.show()"
   ]
  },
  {
   "cell_type": "markdown",
   "id": "6caf0f14",
   "metadata": {},
   "source": [
    "**5.3**\n",
    "* The first plot analyses how range could be affected by department sd, this is a metric which looks at the difference between the hard and easy modules within the primary department of the course. We looked at this for the reason that because this is a driver between the hard and easy course designs. Certain courses like economics have a lot of variance, and as expected they have a large range. But the overall pattern is unclear. There is an upwards trend but there are lot of courses concentrated around a specific Department SD which makes the trend less obvious. One issue of this is that some courses have options in different department modules, e.g finance which has no option in Finance. \n",
    "\n",
    "* The second plot analyses how the range is impacted by the number of optional unis within a degree. This pattern is even more clouded with the regression predicting no pattern. We suspect this is because even though a course may have a large degree of optionality, there are lot of other factors which come into play in explaining the range. One such example may be the number of options the student gets to choose from, (IR has a lot of units of optionality, but overall not many more options to choose from). In a more ideal setting there is a more comprenshive metric of optionality, but the presence of outside options skews the analysis quite significantly."
   ]
  },
  {
   "cell_type": "code",
   "execution_count": null,
   "id": "edfb942d",
   "metadata": {},
   "outputs": [],
   "source": [
    "baseline_dif= compulsory_mods_lse_df[['degree','Mean']]\n",
    "diff_df = pd.merge(opt_df.copy(), baseline_dif, left_on='degree', right_on='degree', how='left')\n",
    "plt.figure(figsize=(10, 6))\n",
    "sns.set(style='whitegrid', context='notebook')\n",
    "\n",
    "fig, axes = plt.subplots(1, 3, figsize=(18, 8))\n",
    "axes = axes.flatten()\n",
    "\n",
    "x_vars = ['median_salary', 'acceptance_perc', 'Mean']\n",
    "titles = ['Easy Mean vs Median Salary', 'Easy Mean vs Acceptance %', 'Easy Mean vs Mean of Compulsory Modules']\n",
    "colors = ['royalblue', 'seagreen', 'darkred']\n",
    "\n",
    "for i, x_var in enumerate(x_vars):\n",
    "    ax = axes[i]\n",
    "    \n",
    "    sns.scatterplot(data=diff_df,x=x_var,y='Easy_Mean',ax=ax,color=colors[i],s=100,edgecolor='black')\n",
    "    x = diff_df[x_var]\n",
    "    y = diff_df['Easy_Mean']\n",
    "    coeffs = np.polyfit(x, y, 1)\n",
    "    x_line = np.linspace(x.min(), x.max(), 100)\n",
    "    y_line = coeffs[0] * x_line + coeffs[1]\n",
    "    ax.plot(x_line, y_line, linestyle='--', color='black')\n",
    "    ax.set_title(titles[i], fontsize=14, fontweight='bold')\n",
    "    ax.set_xlabel(x_var.replace('_', ' ').title(), fontsize=12)\n",
    "    ax.set_ylabel('Easy_Mean', fontsize=12)\n",
    "    ax.tick_params(width=2)\n",
    "    for spine in ax.spines.values():\n",
    "        spine.set_linewidth(1.5)\n",
    "\n",
    "plt.tight_layout()\n",
    "plt.show()"
   ]
  },
  {
   "cell_type": "markdown",
   "id": "30088aaa",
   "metadata": {},
   "source": [
    "**5.4**\n",
    "\n",
    "* Range between hard and easy is something that is impacted by some other factors, but we also want to analyse how difficult a course is, based on certain factors and how this correlates with outcomes. I.e can you pick an easy degree and unlock good enough outcomes. \n",
    "\n",
    "* The first plot shows that as a course gets harder, the median salary by graduates (after 15 months) gets higher. This is relatively in line with what is expected. With there being so few data points the actual relationship is hard to confirm. As Economics has a relatively easy design and a high grad salary so we will not make an asssertive statement here.\n",
    "* The second plot shows that acceptance rate has no relationship with how easy a course is. This is possibly because there are so many other factors driving acceptance %, and prospective students do not have an idea of how easy a course is until they get to LSE. The factor we would attribute to this would be 'prestige'. This 'prestige' is a factor in our opinion driven by acceptance rate, grad salary and how difficult a course is. But this is a very hard factor to isolate and measure\n",
    "* The third plot is a definitive relationship that as the compulsory courses get easier, the highest mean outcome for the easy design increases. This is an expected driver"
   ]
  },
  {
   "cell_type": "markdown",
   "id": "6de73b43",
   "metadata": {},
   "source": [
    "### Conclusion"
   ]
  },
  {
   "cell_type": "markdown",
   "id": "f47e5a9e",
   "metadata": {},
   "source": [
    "#### Summary of Findings"
   ]
  },
  {
   "cell_type": "markdown",
   "id": "5776b92b",
   "metadata": {},
   "source": [
    "* Based on the analysis we have done above, we do not believe it is possible to 'game' the system and choose easy modules to increase your overall degree score. This is due to statistical variation in the course results, assuming that the student is as good as the average. Even despite the statistical variation, the largest range is only 6% and is only ever enough to push a student above the 1st threshold to obtain a first. Additionally, this range is very dependent on the % of courses in specific departments as some departments have a large range of hard and easy courses. In terms of graduate outcome, it is unclear whether an easy degree really correlates with higher grad salary and the difficulty of joining a course has little to do with how easy a course is. Overall selecting a 'percieved easy degree to get into' does not mean that it is an easy course and hence a degree with higher salary. Overall LSE has a relatively robust degree system that is well designed and fair.  \n",
    "\n",
    "* Some courses have given recommendations which are actually the easiest possible combination that a student can take, such as BSc Finance. The mean outcome is always in the 2:1 classification, q10 is never a fail and q90 is always a first, regardless of difficulty. The hardest modules at LSE are Maths and Economics. We have also found that the A- Level requirement for a course is actually well correlated with graduate salary. Most degrees have graduate salary between a thin band apart from a few outliers. "
   ]
  },
  {
   "cell_type": "markdown",
   "id": "d9adf3bb",
   "metadata": {},
   "source": [
    "#### Limitiations"
   ]
  },
  {
   "cell_type": "markdown",
   "id": "9abeecf2",
   "metadata": {},
   "source": [
    "As discussed, there are quite a lot of limitations in our analaysis. A lot of these have mentioned beforehand but we will run through a quick summary of the limitations and how they impacted the analysis"
   ]
  },
  {
   "cell_type": "markdown",
   "id": "714b0cc8",
   "metadata": {},
   "source": [
    "* **Only Choosing 5 Degrees** - This was done due to the difficulty of completing an accurate and comprehensive study of the degrees at LSE. We have chose different specific charateristics here which would be a reason for having a large difference between hard and easy.\n",
    "* **Missing Courses** - Some courses have no data as they didnt exist in the last year. Therefore the calcualtion for mean has simply skipped it over\n",
    "* **Students may have correlated performance** - we have made an assumption in our t testing, that the student is average at every module, but if they are good at some courses they are likely to be good at others which impacts the standard error for each course."
   ]
  },
  {
   "cell_type": "markdown",
   "id": "c0eac576",
   "metadata": {},
   "source": [
    "#### What else could be done?"
   ]
  },
  {
   "cell_type": "markdown",
   "id": "75b045d9",
   "metadata": {},
   "source": [
    "The natural next step would be to analyse the rest of the degrees at LSE, and adapting our code to be able to process course combinations fully automatically, this would involve creating a significantly more intelligent scraping bot. With all of this we can comprenhesively compare different charateristics to make a more informed decision"
   ]
  },
  {
   "cell_type": "code",
   "execution_count": null,
   "id": "677720fb",
   "metadata": {},
   "outputs": [],
   "source": []
  },
  {
   "cell_type": "code",
   "execution_count": null,
   "id": "a6660fc2",
   "metadata": {},
   "outputs": [],
   "source": []
  }
 ],
 "metadata": {
  "kernelspec": {
   "display_name": "Python 3 (ipykernel)",
   "language": "python",
   "name": "python3"
  },
  "language_info": {
   "codemirror_mode": {
    "name": "ipython",
    "version": 3
   },
   "file_extension": ".py",
   "mimetype": "text/x-python",
   "name": "python",
   "nbconvert_exporter": "python",
   "pygments_lexer": "ipython3",
   "version": "3.11.5"
  }
 },
 "nbformat": 4,
 "nbformat_minor": 5
}
